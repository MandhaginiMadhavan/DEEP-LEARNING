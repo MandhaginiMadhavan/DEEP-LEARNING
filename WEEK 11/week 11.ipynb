{
 "cells": [
  {
   "cell_type": "code",
   "execution_count": 1,
   "id": "20927acf",
   "metadata": {},
   "outputs": [
    {
     "name": "stdout",
     "output_type": "stream",
     "text": [
      "WARNING:tensorflow:From C:\\Users\\mandh\\AppData\\Local\\anaconda3\\Lib\\site-packages\\keras\\src\\losses.py:2976: The name tf.losses.sparse_softmax_cross_entropy is deprecated. Please use tf.compat.v1.losses.sparse_softmax_cross_entropy instead.\n",
      "\n"
     ]
    }
   ],
   "source": [
    "from pandas import read_csv\n",
    "import numpy as np\n",
    "from keras import Model\n",
    "from keras.layers import Layer\n",
    "import keras.backend as K\n",
    "from keras.layers import Input, Dense, SimpleRNN\n",
    "from sklearn.preprocessing import MinMaxScaler\n",
    "from keras.models import Sequential\n",
    "from keras.metrics import mean_squared_error"
   ]
  },
  {
   "cell_type": "code",
   "execution_count": 2,
   "id": "779c1777",
   "metadata": {},
   "outputs": [],
   "source": [
    "# Prepare data\n",
    "def get_fib_seq(n, scale_data=True):\n",
    "    # Get the Fibonacci sequence\n",
    "    seq = np.zeros(n)\n",
    "    fib_n1 = 0.0\n",
    "    fib_n = 1.0 \n",
    "    for i in range(n):\n",
    "            #\n",
    "            # Your code to create the fibonacci sequence. Store the sequence in an numpy array 'seq'\n",
    "            #\n",
    "            seq[i]=fib_n1 + fib_n\n",
    "            fib_n1 = fib_n\n",
    "            fib_n = seq[i]\n",
    "            \n",
    "    scaler = []\n",
    "    if scale_data:\n",
    "        scaler = MinMaxScaler(feature_range=(0, 1))\n",
    "        seq = np.reshape(seq, (n, 1))\n",
    "        seq = scaler.fit_transform(seq).flatten()        \n",
    "    return seq, scaler\n"
   ]
  },
  {
   "cell_type": "code",
   "execution_count": 3,
   "id": "f3618678",
   "metadata": {},
   "outputs": [],
   "source": [
    "#\n",
    "# Check if the function works correctly.\n",
    "#\n",
    "def get_fib_seq_check(n,scale_data=True):\n",
    "    seq = np.zeros(n)\n",
    "    fib_n1 = 0.0\n",
    "    fib_n = 1.0 \n",
    "    for i in range(n):\n",
    "            #\n",
    "            # Your code to create the fibonacci sequence. Store the sequence in an numpy array 'seq'\n",
    "            #\n",
    "            seq[i]=fib_n1 + fib_n\n",
    "            fib_n1 = fib_n\n",
    "            fib_n = seq[i]\n",
    "            \n",
    "    scaler = []\n",
    "    if scale_data:\n",
    "        scaler = MinMaxScaler(feature_range=(0, 1))\n",
    "        seq = np.reshape(seq, (n, 1))\n",
    "        seq = scaler.fit_transform(seq).flatten()        \n",
    "    return seq, scaler,fib_n"
   ]
  },
  {
   "cell_type": "code",
   "execution_count": 4,
   "id": "f4056fbf",
   "metadata": {},
   "outputs": [
    {
     "name": "stdout",
     "output_type": "stream",
     "text": [
      "seq_normalised= [0.   0.25 0.5  1.  ] \n",
      "seq = [1. 2. 3. 5.]\n"
     ]
    }
   ],
   "source": [
    "n=4\n",
    "dat,scaler,fib_N = get_fib_seq_check(n)\n",
    "print('seq_normalised=',dat,'\\n'\n",
    "     'seq =',dat*(fib_N-1)+1)"
   ]
  },
  {
   "cell_type": "code",
   "execution_count": 5,
   "id": "e30b4d91",
   "metadata": {},
   "outputs": [],
   "source": [
    "def get_fib_XY(total_fib_numbers, time_steps, train_percent, scale_data=True):\n",
    "    dat, scaler = get_fib_seq(total_fib_numbers, scale_data) ## Loading the dataset.\n",
    "    \n",
    "    #\n",
    "    #\n",
    "    # Your code to create training and test dataset. \n",
    "    # Note - function argument total_fib_number is the total number of fibonacci numbers, \n",
    "    # time_step is the length of the input, \n",
    "    # and train_percent determines the ratio of train and test size \n",
    "    #   \n",
    "    #\n",
    "    Y_ind = np.arange(time_steps, len(dat),1)\n",
    "    Y=dat[Y_ind]\n",
    "    rows_x=len(Y)\n",
    "    X=dat[0:rows_x]\n",
    "    for i in range(time_steps-1):\n",
    "        temp = dat[i+1:rows_x+i+1]\n",
    "        X=np.column_stack((X,temp))\n",
    "    rand = np.random.RandomState(seed=13)\n",
    "    idx=rand.permutation(rows_x)\n",
    "    split=int(train_percent*rows_x)\n",
    "    train_ind = idx[0:split]\n",
    "    test_ind = idx[split:]\n",
    "    trainX=X[train_ind]\n",
    "    trainY=Y[train_ind]\n",
    "    testX=X[test_ind]\n",
    "    testY=Y[test_ind]\n",
    "    trainX = np.reshape(trainX,(len(trainX),time_steps,1))\n",
    "    testX = np.reshape(testX,(len(testX),time_steps,1))\n",
    "    \n",
    "\n",
    "    return trainX, trainY, testX, testY, scaler\n"
   ]
  },
  {
   "cell_type": "code",
   "execution_count": 6,
   "id": "fde7e7b6",
   "metadata": {},
   "outputs": [
    {
     "data": {
      "text/plain": [
       "(array([[[0.01136364],\n",
       "         [0.02272727],\n",
       "         [0.04545455]],\n",
       " \n",
       "        [[0.04545455],\n",
       "         [0.07954545],\n",
       "         [0.13636364]],\n",
       " \n",
       "        [[0.07954545],\n",
       "         [0.13636364],\n",
       "         [0.22727273]],\n",
       " \n",
       "        [[0.13636364],\n",
       "         [0.22727273],\n",
       "         [0.375     ]],\n",
       " \n",
       "        [[0.22727273],\n",
       "         [0.375     ],\n",
       "         [0.61363636]]]),\n",
       " array([0.07954545, 0.22727273, 0.375     , 0.61363636, 1.        ]),\n",
       " array([[[0.        ],\n",
       "         [0.01136364],\n",
       "         [0.02272727]],\n",
       " \n",
       "        [[0.02272727],\n",
       "         [0.04545455],\n",
       "         [0.07954545]]]),\n",
       " array([0.04545455, 0.13636364]),\n",
       " MinMaxScaler())"
      ]
     },
     "execution_count": 6,
     "metadata": {},
     "output_type": "execute_result"
    }
   ],
   "source": [
    "#\n",
    "# Check if the function works correctly.\n",
    "#\n",
    "get_fib_XY(10,3,0.8)"
   ]
  },
  {
   "cell_type": "code",
   "execution_count": 7,
   "id": "9e07b3d4",
   "metadata": {},
   "outputs": [],
   "source": [
    "# Set up parameters\n",
    "time_steps = 20\n",
    "hidden_units = 2\n",
    "epochs = 30  # or epochs = 40 # if you use GPU or Google Colab"
   ]
  },
  {
   "cell_type": "code",
   "execution_count": 8,
   "id": "04d0f5b3",
   "metadata": {},
   "outputs": [],
   "source": [
    "def create_RNN(hidden_units, dense_units, input_shape, activation):\n",
    "    model = Sequential()\n",
    "    model.add(SimpleRNN(hidden_units, input_shape=input_shape, activation=activation[0]))\n",
    "    model.add(Dense(units=dense_units, activation=activation[1]))\n",
    "    model.compile(loss='mse', optimizer='adam')\n",
    "    return model"
   ]
  },
  {
   "cell_type": "code",
   "execution_count": 9,
   "id": "3a386c9e",
   "metadata": {},
   "outputs": [
    {
     "name": "stdout",
     "output_type": "stream",
     "text": [
      "WARNING:tensorflow:From C:\\Users\\mandh\\AppData\\Local\\anaconda3\\Lib\\site-packages\\keras\\src\\backend.py:873: The name tf.get_default_graph is deprecated. Please use tf.compat.v1.get_default_graph instead.\n",
      "\n",
      "WARNING:tensorflow:From C:\\Users\\mandh\\AppData\\Local\\anaconda3\\Lib\\site-packages\\keras\\src\\optimizers\\__init__.py:309: The name tf.train.Optimizer is deprecated. Please use tf.compat.v1.train.Optimizer instead.\n",
      "\n"
     ]
    }
   ],
   "source": [
    "model_RNN = create_RNN(hidden_units=hidden_units, dense_units=1, input_shape=(time_steps,1), \n",
    "                   activation=['tanh', 'tanh'])"
   ]
  },
  {
   "cell_type": "code",
   "execution_count": 10,
   "id": "6a779bac",
   "metadata": {},
   "outputs": [
    {
     "name": "stdout",
     "output_type": "stream",
     "text": [
      "Model: \"sequential\"\n",
      "_________________________________________________________________\n",
      " Layer (type)                Output Shape              Param #   \n",
      "=================================================================\n",
      " simple_rnn (SimpleRNN)      (None, 2)                 8         \n",
      "                                                                 \n",
      " dense (Dense)               (None, 1)                 3         \n",
      "                                                                 \n",
      "=================================================================\n",
      "Total params: 11 (44.00 Byte)\n",
      "Trainable params: 11 (44.00 Byte)\n",
      "Non-trainable params: 0 (0.00 Byte)\n",
      "_________________________________________________________________\n"
     ]
    }
   ],
   "source": [
    "#\n",
    "# Your code to print the model summary\n",
    "#\n",
    "model_RNN.summary()"
   ]
  },
  {
   "cell_type": "code",
   "execution_count": 11,
   "id": "e5d212e4",
   "metadata": {},
   "outputs": [],
   "source": [
    "#\n",
    "# Your code to get the dataset for the network - trainX, trainY, testX, testY, \n",
    "# using function get_fib_XY(1200, time_steps, 0.7)\n",
    "#\n",
    "trainX, trainY, testX, testY, scaler = get_fib_XY(1200, time_steps,0.7)"
   ]
  },
  {
   "cell_type": "code",
   "execution_count": 12,
   "id": "50ee7414",
   "metadata": {},
   "outputs": [
    {
     "name": "stdout",
     "output_type": "stream",
     "text": [
      "Epoch 1/30\n",
      "WARNING:tensorflow:From C:\\Users\\mandh\\AppData\\Local\\anaconda3\\Lib\\site-packages\\keras\\src\\utils\\tf_utils.py:492: The name tf.ragged.RaggedTensorValue is deprecated. Please use tf.compat.v1.ragged.RaggedTensorValue instead.\n",
      "\n",
      "826/826 [==============================] - 4s 3ms/step - loss: 0.0044\n",
      "Epoch 2/30\n",
      "826/826 [==============================] - 2s 3ms/step - loss: 0.0040\n",
      "Epoch 3/30\n",
      "826/826 [==============================] - 2s 3ms/step - loss: 0.0037\n",
      "Epoch 4/30\n",
      "826/826 [==============================] - 2s 3ms/step - loss: 0.0033\n",
      "Epoch 5/30\n",
      "826/826 [==============================] - 2s 3ms/step - loss: 0.0030\n",
      "Epoch 6/30\n",
      "826/826 [==============================] - 2s 3ms/step - loss: 0.0027\n",
      "Epoch 7/30\n",
      "826/826 [==============================] - 2s 3ms/step - loss: 0.0025\n",
      "Epoch 8/30\n",
      "826/826 [==============================] - 2s 3ms/step - loss: 0.0022\n",
      "Epoch 9/30\n",
      "826/826 [==============================] - 2s 3ms/step - loss: 0.0021\n",
      "Epoch 10/30\n",
      "826/826 [==============================] - 2s 3ms/step - loss: 0.0019\n",
      "Epoch 11/30\n",
      "826/826 [==============================] - 2s 3ms/step - loss: 0.0018\n",
      "Epoch 12/30\n",
      "826/826 [==============================] - 2s 3ms/step - loss: 0.0016\n",
      "Epoch 13/30\n",
      "826/826 [==============================] - 2s 3ms/step - loss: 0.0015\n",
      "Epoch 14/30\n",
      "826/826 [==============================] - 2s 3ms/step - loss: 0.0014\n",
      "Epoch 15/30\n",
      "826/826 [==============================] - 2s 3ms/step - loss: 0.0013\n",
      "Epoch 16/30\n",
      "826/826 [==============================] - 2s 3ms/step - loss: 0.0012\n",
      "Epoch 17/30\n",
      "826/826 [==============================] - 2s 3ms/step - loss: 0.0011\n",
      "Epoch 18/30\n",
      "826/826 [==============================] - 2s 3ms/step - loss: 9.7716e-04\n",
      "Epoch 19/30\n",
      "826/826 [==============================] - 2s 3ms/step - loss: 8.6457e-04\n",
      "Epoch 20/30\n",
      "826/826 [==============================] - 2s 3ms/step - loss: 7.8830e-04\n",
      "Epoch 21/30\n",
      "826/826 [==============================] - 2s 3ms/step - loss: 7.0420e-04\n",
      "Epoch 22/30\n",
      "826/826 [==============================] - 2s 3ms/step - loss: 6.2185e-04\n",
      "Epoch 23/30\n",
      "826/826 [==============================] - 2s 3ms/step - loss: 5.5451e-04\n",
      "Epoch 24/30\n",
      "826/826 [==============================] - 2s 3ms/step - loss: 4.7269e-04\n",
      "Epoch 25/30\n",
      "826/826 [==============================] - 2s 3ms/step - loss: 3.9005e-04\n",
      "Epoch 26/30\n",
      "826/826 [==============================] - 2s 3ms/step - loss: 3.1447e-04\n",
      "Epoch 27/30\n",
      "826/826 [==============================] - 2s 3ms/step - loss: 2.5064e-04\n",
      "Epoch 28/30\n",
      "826/826 [==============================] - 2s 3ms/step - loss: 1.9869e-04\n",
      "Epoch 29/30\n",
      "826/826 [==============================] - 2s 3ms/step - loss: 1.5104e-04\n",
      "Epoch 30/30\n",
      "826/826 [==============================] - 2s 3ms/step - loss: 1.1592e-04\n"
     ]
    }
   ],
   "source": [
    "history = model_RNN.fit(trainX, trainY, epochs=epochs, batch_size=1, verbose=1)"
   ]
  },
  {
   "cell_type": "code",
   "execution_count": 13,
   "id": "39370442",
   "metadata": {},
   "outputs": [
    {
     "name": "stderr",
     "output_type": "stream",
     "text": [
      "C:\\Users\\mandh\\AppData\\Local\\Temp\\ipykernel_7480\\1046343878.py:4: MatplotlibDeprecationWarning: The seaborn styles shipped by Matplotlib are deprecated since 3.6, as they no longer correspond to the styles shipped by seaborn. However, they will remain available as 'seaborn-v0_8-<style>'. Alternatively, directly use the seaborn API instead.\n",
      "  plt.style.use('seaborn-darkgrid')\n"
     ]
    }
   ],
   "source": [
    "import matplotlib.pyplot as plt\n",
    "%matplotlib inline\n",
    "\n",
    "plt.style.use('seaborn-darkgrid')"
   ]
  },
  {
   "cell_type": "code",
   "execution_count": 14,
   "id": "60ea8e15",
   "metadata": {},
   "outputs": [
    {
     "data": {
      "image/png": "[encoded data removed]",
      "text/plain": [
       "<Figure size 1500x700 with 1 Axes>"
      ]
     },
     "metadata": {},
     "output_type": "display_data"
    }
   ],
   "source": [
    "# Training chart\n",
    "\n",
    "history_dict = history.history\n",
    "\n",
    "losses = history_dict['loss']\n",
    "Epochs = range(1, len(losses) + 1)\n",
    "\n",
    "plt.figure(num=1, figsize=(15,7))\n",
    "plt.plot(Epochs, losses, 'bo', label='Training loss')\n",
    "plt.xlabel('Epochs')\n",
    "plt.ylabel('Loss function - mse')\n",
    "plt.legend()\n",
    "plt.show()"
   ]
  },
  {
   "cell_type": "code",
   "execution_count": 26,
   "id": "424a7715",
   "metadata": {},
   "outputs": [
    {
     "name": "stdout",
     "output_type": "stream",
     "text": [
      "26/26 [==============================] - 0s 2ms/step - loss: 8.9023e-05\n",
      "12/12 [==============================] - 0s 1ms/step - loss: 1.4481e-05\n",
      "Train set MSE =  0.0004215874650981277\n",
      "Test set MSE =  0.00024231965653598309\n"
     ]
    }
   ],
   "source": [
    "# Evalute model\n",
    "train_mse_RNN = model_RNN.evaluate(trainX, trainY)\n",
    "test_mse_RNN = model_RNN.evaluate(testX, testY)\n",
    "\n",
    "# Print train and test error metrics\n",
    "print(\"Train set MSE = \", train_mse)\n",
    "print(\"Test set MSE = \", test_mse)"
   ]
  },
  {
   "cell_type": "code",
   "execution_count": 27,
   "id": "da24ff82",
   "metadata": {},
   "outputs": [],
   "source": [
    "# Add attention layer to the deep learning network\n",
    "class attention(Layer):\n",
    "    def __init__(self,**kwargs):\n",
    "        super(attention,self).__init__(**kwargs)\n",
    "\n",
    "    def build(self,input_shape):\n",
    "        self.W=self.add_weight(name='attention_weight', shape=(input_shape[-1],1), \n",
    "                               initializer='random_normal', trainable=True)\n",
    "        self.b=self.add_weight(name='attention_bias', shape=(input_shape[1],1), \n",
    "                               initializer='zeros', trainable=True)        \n",
    "        super(attention, self).build(input_shape)\n",
    "\n",
    "    def call(self,x):\n",
    "        # Alignment scores. Pass them through tanh function\n",
    "        e = K.tanh(K.dot(x,self.W)+self.b)\n",
    "        # Remove dimension of size 1\n",
    "        e = K.squeeze(e, axis=-1)   \n",
    "        # Compute the weights\n",
    "        alpha = K.softmax(e)\n",
    "        # Reshape to tensorFlow format\n",
    "        alpha = K.expand_dims(alpha, axis=-1)\n",
    "        # Compute the context vector\n",
    "        context = x * alpha\n",
    "        context = K.sum(context, axis=1)\n",
    "        return context\n",
    "    "
   ]
  },
  {
   "cell_type": "code",
   "execution_count": 28,
   "id": "6ffecd96",
   "metadata": {},
   "outputs": [],
   "source": [
    "def create_RNN_with_attention(hidden_units, dense_units, input_shape, activation):\n",
    "    x=Input(shape=input_shape)\n",
    "    RNN_layer = SimpleRNN(hidden_units, return_sequences=True, activation=activation)(x)\n",
    "\n",
    "    attention_layer = attention()(RNN_layer) ## Note = Attention layer is added here.\n",
    "\n",
    "    outputs=Dense(dense_units, trainable=True, activation=activation)(attention_layer)\n",
    "    model=Model(x,outputs)\n",
    "    model.compile(loss='mse', optimizer='adam')    \n",
    "    return model    "
   ]
  },
  {
   "cell_type": "code",
   "execution_count": 29,
   "id": "0d50d7fb",
   "metadata": {},
   "outputs": [],
   "source": [
    "#\n",
    "# Your code to create the model with attention. Use activation function 'tanh' and\n",
    "# function 'create_RNN_with_attention'\n",
    "#\n",
    "model_attention = create_RNN_with_attention(hidden_units=hidden_units,dense_units=1,\n",
    "                                            input_shape=(time_steps,1),activation='tanh')"
   ]
  },
  {
   "cell_type": "code",
   "execution_count": 30,
   "id": "77b853e5",
   "metadata": {},
   "outputs": [
    {
     "name": "stdout",
     "output_type": "stream",
     "text": [
      "Model: \"model_1\"\n",
      "_________________________________________________________________\n",
      " Layer (type)                Output Shape              Param #   \n",
      "=================================================================\n",
      " input_2 (InputLayer)        [(None, 20, 1)]           0         \n",
      "                                                                 \n",
      " simple_rnn_2 (SimpleRNN)    (None, 20, 2)             8         \n",
      "                                                                 \n",
      " attention_1 (attention)     (None, 2)                 22        \n",
      "                                                                 \n",
      " dense_2 (Dense)             (None, 1)                 3         \n",
      "                                                                 \n",
      "=================================================================\n",
      "Total params: 33 (132.00 Byte)\n",
      "Trainable params: 33 (132.00 Byte)\n",
      "Non-trainable params: 0 (0.00 Byte)\n",
      "_________________________________________________________________\n"
     ]
    }
   ],
   "source": [
    "#\n",
    "# Your code to print the model summary\n",
    "#\n",
    "model_attention.summary()"
   ]
  },
  {
   "cell_type": "code",
   "execution_count": 31,
   "id": "4a8d4a71",
   "metadata": {},
   "outputs": [
    {
     "name": "stdout",
     "output_type": "stream",
     "text": [
      "Epoch 1/30\n",
      "826/826 [==============================] - 4s 3ms/step - loss: 0.0016\n",
      "Epoch 2/30\n",
      "826/826 [==============================] - 3s 3ms/step - loss: 0.0016\n",
      "Epoch 3/30\n",
      "826/826 [==============================] - 2s 3ms/step - loss: 0.0015\n",
      "Epoch 4/30\n",
      "826/826 [==============================] - 2s 3ms/step - loss: 0.0015\n",
      "Epoch 5/30\n",
      "826/826 [==============================] - 2s 3ms/step - loss: 0.0015\n",
      "Epoch 6/30\n",
      "826/826 [==============================] - 2s 3ms/step - loss: 0.0015\n",
      "Epoch 7/30\n",
      "826/826 [==============================] - 2s 3ms/step - loss: 0.0015\n",
      "Epoch 8/30\n",
      "826/826 [==============================] - 2s 3ms/step - loss: 0.0015\n",
      "Epoch 9/30\n",
      "826/826 [==============================] - 2s 3ms/step - loss: 0.0015\n",
      "Epoch 10/30\n",
      "826/826 [==============================] - 2s 3ms/step - loss: 0.0015\n",
      "Epoch 11/30\n",
      "826/826 [==============================] - 2s 3ms/step - loss: 0.0014\n",
      "Epoch 12/30\n",
      "826/826 [==============================] - 2s 3ms/step - loss: 0.0014\n",
      "Epoch 13/30\n",
      "826/826 [==============================] - 2s 3ms/step - loss: 0.0014\n",
      "Epoch 14/30\n",
      "826/826 [==============================] - 2s 3ms/step - loss: 0.0014\n",
      "Epoch 15/30\n",
      "826/826 [==============================] - 2s 3ms/step - loss: 0.0014\n",
      "Epoch 16/30\n",
      "826/826 [==============================] - 2s 3ms/step - loss: 0.0014\n",
      "Epoch 17/30\n",
      "826/826 [==============================] - 2s 3ms/step - loss: 0.0014\n",
      "Epoch 18/30\n",
      "826/826 [==============================] - 2s 3ms/step - loss: 0.0014\n",
      "Epoch 19/30\n",
      "826/826 [==============================] - 2s 3ms/step - loss: 0.0013\n",
      "Epoch 20/30\n",
      "826/826 [==============================] - 2s 3ms/step - loss: 0.0014\n",
      "Epoch 21/30\n",
      "826/826 [==============================] - 3s 3ms/step - loss: 0.0013\n",
      "Epoch 22/30\n",
      "826/826 [==============================] - 3s 3ms/step - loss: 0.0013\n",
      "Epoch 23/30\n",
      "826/826 [==============================] - 3s 3ms/step - loss: 0.0013\n",
      "Epoch 24/30\n",
      "826/826 [==============================] - 3s 3ms/step - loss: 0.0013\n",
      "Epoch 25/30\n",
      "826/826 [==============================] - 2s 3ms/step - loss: 0.0013\n",
      "Epoch 26/30\n",
      "826/826 [==============================] - 2s 3ms/step - loss: 0.0013\n",
      "Epoch 27/30\n",
      "826/826 [==============================] - 2s 3ms/step - loss: 0.0012\n",
      "Epoch 28/30\n",
      "826/826 [==============================] - 2s 3ms/step - loss: 0.0012\n",
      "Epoch 29/30\n",
      "826/826 [==============================] - 2s 3ms/step - loss: 0.0012\n",
      "Epoch 30/30\n",
      "826/826 [==============================] - 2s 3ms/step - loss: 0.0011\n"
     ]
    }
   ],
   "source": [
    "#\n",
    "# Your code to fit the model\n",
    "# save the results of the training to 'history_2' variable list\n",
    "# use batch_size=1\n",
    "#\n",
    "history2 = model_attention.fit(trainX, trainY, epochs=epochs, batch_size=1, verbose=1)"
   ]
  },
  {
   "cell_type": "code",
   "execution_count": 32,
   "id": "fc7c11a8",
   "metadata": {},
   "outputs": [
    {
     "data": {
      "image/png": "[encoded data removed]",
      "text/plain": [
       "<Figure size 1500x700 with 1 Axes>"
      ]
     },
     "metadata": {},
     "output_type": "display_data"
    }
   ],
   "source": [
    "#\n",
    "# your code to drow the Training chart\n",
    "#\n",
    "# Training chart\n",
    "\n",
    "history_dict = history2.history\n",
    "\n",
    "losses = history_dict['loss']\n",
    "Epochs = range(1, len(losses) + 1)\n",
    "\n",
    "plt.figure(num=1, figsize=(15,7))\n",
    "plt.plot(Epochs, losses, 'bo', label='Training loss')\n",
    "plt.xlabel('Epochs')\n",
    "plt.ylabel('Loss function - mse')\n",
    "plt.legend()\n",
    "plt.show()"
   ]
  },
  {
   "cell_type": "code",
   "execution_count": 33,
   "id": "23f76d5d",
   "metadata": {},
   "outputs": [
    {
     "name": "stdout",
     "output_type": "stream",
     "text": [
      "26/26 [==============================] - 0s 2ms/step - loss: 0.0011\n",
      "12/12 [==============================] - 0s 2ms/step - loss: 9.6200e-04\n",
      "Train set MSE =  0.0004215874650981277\n",
      "Test set MSE =  0.00024231965653598309\n"
     ]
    }
   ],
   "source": [
    "#\n",
    "# your code to Evaluate attention model on training set\n",
    "# Your code to evaluate the attention model on test set\n",
    "#\n",
    "\n",
    "train_mse_attention = model_attention.evaluate(trainX, trainY)\n",
    "test_mse_attention = model_attention.evaluate(testX, testY)\n",
    "\n",
    "# Print train and test error metrics\n",
    "print(\"Train set MSE = \", train_mse)\n",
    "print(\"Test set MSE = \", test_mse)"
   ]
  },
  {
   "cell_type": "code",
   "execution_count": 34,
   "id": "f69db399",
   "metadata": {},
   "outputs": [
    {
     "name": "stdout",
     "output_type": "stream",
     "text": [
      "26/26 [==============================] - 0s 2ms/step - loss: 0.0011\n",
      "12/12 [==============================] - 0s 2ms/step - loss: 9.6200e-04\n",
      "Train set MSE =  0.0010830983519554138\n",
      "Test set MSE =  0.0009620002820156515\n"
     ]
    }
   ],
   "source": [
    "#\n",
    "# your code to Evaluate attention model on training set\n",
    "# Your code to evaluate the attention model on test set\n",
    "#\n",
    "\n",
    "train_mse = model_attention.evaluate(trainX, trainY)\n",
    "test_mse = model_attention.evaluate(testX, testY)\n",
    "\n",
    "# Print train and test error metrics\n",
    "print(\"Train set MSE = \", train_mse)\n",
    "print(\"Test set MSE = \", test_mse)"
   ]
  },
  {
   "cell_type": "code",
   "execution_count": 37,
   "id": "ffa396e8",
   "metadata": {},
   "outputs": [
    {
     "data": {
      "image/png": "[encoded data removed]",
      "text/plain": [
       "<Figure size 1000x600 with 2 Axes>"
      ]
     },
     "metadata": {},
     "output_type": "display_data"
    }
   ],
   "source": [
    "import matplotlib.pyplot as plt\n",
    "\n",
    "# Define the model names\n",
    "model_names = ['Simple RNN', 'RNN with Attention']\n",
    "\n",
    "# Define the train and test MSE values for both models\n",
    "train_mse_values = [train_mse_RNN, train_mse_attention]\n",
    "test_mse_values = [test_mse_RNN, test_mse_attention]\n",
    "\n",
    "# Plot the train and test MSE for both models\n",
    "plt.figure(figsize=(10, 6))\n",
    "\n",
    "# Plot train MSE\n",
    "plt.subplot(1, 2, 1)\n",
    "plt.bar(model_names, train_mse_values, color='pink')\n",
    "plt.title('Train MSE')\n",
    "plt.ylabel('MSE')\n",
    "\n",
    "# Plot test MSE\n",
    "plt.subplot(1, 2, 2)\n",
    "plt.bar(model_names, test_mse_values, color='purple')\n",
    "plt.title('Test MSE')\n",
    "plt.ylabel('MSE')\n",
    "\n",
    "plt.tight_layout()\n",
    "plt.show()"
   ]
  },
  {
   "cell_type": "code",
   "execution_count": null,
   "id": "99a97e4b",
   "metadata": {},
   "outputs": [],
   "source": []
  },
  {
   "cell_type": "code",
   "execution_count": null,
   "id": "74a53799",
   "metadata": {},
   "outputs": [],
   "source": []
  },
  {
   "cell_type": "code",
   "execution_count": null,
   "id": "fb1f1aa4",
   "metadata": {},
   "outputs": [],
   "source": []
  },
  {
   "cell_type": "code",
   "execution_count": null,
   "id": "95619cf9",
   "metadata": {},
   "outputs": [],
   "source": []
  },
  {
   "cell_type": "code",
   "execution_count": null,
   "id": "879ca540",
   "metadata": {},
   "outputs": [],
   "source": []
  },
  {
   "cell_type": "code",
   "execution_count": null,
   "id": "d870b8f5",
   "metadata": {},
   "outputs": [],
   "source": []
  },
  {
   "cell_type": "code",
   "execution_count": null,
   "id": "82396ef4",
   "metadata": {},
   "outputs": [],
   "source": []
  },
  {
   "cell_type": "code",
   "execution_count": null,
   "id": "2d5dd363",
   "metadata": {},
   "outputs": [],
   "source": []
  }
 ],
 "metadata": {
  "kernelspec": {
   "display_name": "Python 3 (ipykernel)",
   "language": "python",
   "name": "python3"
  },
  "language_info": {
   "codemirror_mode": {
    "name": "ipython",
    "version": 3
   },
   "file_extension": ".py",
   "mimetype": "text/x-python",
   "name": "python",
   "nbconvert_exporter": "python",
   "pygments_lexer": "ipython3",
   "version": "3.11.5"
  }
 },
 "nbformat": 4,
 "nbformat_minor": 5
}
