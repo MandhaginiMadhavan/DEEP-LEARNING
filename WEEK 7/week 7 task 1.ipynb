{
 "cells": [
  {
   "cell_type": "code",
   "execution_count": 49,
   "id": "7c42d2e5",
   "metadata": {},
   "outputs": [],
   "source": [
    "#\n",
    "# Import relevant Libraries\n",
    "#\n",
    "import pandas as pd\n",
    "import numpy as np\n",
    "import matplotlib.pyplot as plt\n",
    "import tensorflow as tf\n",
    "from tensorflow import keras"
   ]
  },
  {
   "cell_type": "code",
   "execution_count": 50,
   "id": "e4d4427c",
   "metadata": {},
   "outputs": [],
   "source": [
    "from keras.datasets import mnist"
   ]
  },
  {
   "cell_type": "code",
   "execution_count": 51,
   "id": "80471ba5",
   "metadata": {},
   "outputs": [],
   "source": [
    "from keras.layers import Input, Dense\n",
    "from keras.models import Model"
   ]
  },
  {
   "cell_type": "code",
   "execution_count": 52,
   "id": "791f2794",
   "metadata": {},
   "outputs": [],
   "source": [
    "\n",
    "# Load MNIST data and store it in variables x_train, x_test. Note -  we do not need labels as it's autoencoder.\n",
    "(x_train,_),(x_test,_) = mnist.load_data()"
   ]
  },
  {
   "cell_type": "code",
   "execution_count": 53,
   "id": "ef690eec",
   "metadata": {},
   "outputs": [
    {
     "data": {
      "image/png": "[encoded data removed]",
      "text/plain": [
       "<Figure size 2000x400 with 10 Axes>"
      ]
     },
     "metadata": {},
     "output_type": "display_data"
    }
   ],
   "source": [
    "# Plot a few data points\n",
    "%matplotlib inline\n",
    "\n",
    "n = 10  # Number of records that will display\n",
    "plt.figure(figsize=(20, 4))\n",
    "for i in range(n):\n",
    "    # display original\n",
    "    ax = plt.subplot(2, n, i + 1)\n",
    "    plt.imshow(x_test[i].reshape(28, 28))\n",
    "    plt.gray()\n",
    "    ax.get_xaxis().set_visible(False)\n",
    "    ax.get_yaxis().set_visible(False)\n",
    "\n",
    "plt.show()"
   ]
  },
  {
   "cell_type": "code",
   "execution_count": 54,
   "id": "b876adf6",
   "metadata": {},
   "outputs": [],
   "source": [
    "# Normalize train data - Divide by 255\n",
    "# Normalize test data - Divide by 255\n",
    "x_train = x_train/255\n",
    "x_test  = x_test/255"
   ]
  },
  {
   "cell_type": "code",
   "execution_count": 55,
   "id": "94fdf30b",
   "metadata": {},
   "outputs": [],
   "source": [
    "from keras.models import Sequential\n",
    "from keras.layers import Dense, Activation, Flatten"
   ]
  },
  {
   "cell_type": "code",
   "execution_count": 56,
   "id": "bf083637",
   "metadata": {},
   "outputs": [],
   "source": [
    "encoder = Sequential()\n",
    "encoder.add(Flatten(input_shape=[28,28]))\n",
    "\n",
    "#\n",
    "# Add as many hidden layers in the encoder network of your choise\n",
    "#\n",
    "#\n",
    "encoder.add(Dense(500, activation='sigmoid'))\n",
    "encoder.add(Dense(400, activation='tanh'))\n",
    "encoder.add(Dense(350, activation='sigmoid'))\n",
    "encoder.add(Dense(40, activation='relu'))\n",
    "encoder.add(Dense(25, activation='tanh'))\n",
    "\n",
    "# The last TWO layers of the encoder and decoder must be matched (see the following decoder cell.\n",
    "#"
   ]
  },
  {
   "cell_type": "code",
   "execution_count": 57,
   "id": "1bc4d916",
   "metadata": {},
   "outputs": [
    {
     "name": "stdout",
     "output_type": "stream",
     "text": [
      "Model: \"sequential_12\"\n",
      "_________________________________________________________________\n",
      " Layer (type)                Output Shape              Param #   \n",
      "=================================================================\n",
      " flatten_4 (Flatten)         (None, 784)               0         \n",
      "                                                                 \n",
      " dense_45 (Dense)            (None, 500)               392500    \n",
      "                                                                 \n",
      " dense_46 (Dense)            (None, 400)               200400    \n",
      "                                                                 \n",
      " dense_47 (Dense)            (None, 350)               140350    \n",
      "                                                                 \n",
      " dense_48 (Dense)            (None, 40)                14040     \n",
      "                                                                 \n",
      " dense_49 (Dense)            (None, 25)                1025      \n",
      "                                                                 \n",
      "=================================================================\n",
      "Total params: 748315 (2.85 MB)\n",
      "Trainable params: 748315 (2.85 MB)\n",
      "Non-trainable params: 0 (0.00 Byte)\n",
      "_________________________________________________________________\n"
     ]
    }
   ],
   "source": [
    "# print the encoder model\n",
    "encoder.summary()"
   ]
  },
  {
   "cell_type": "code",
   "execution_count": 58,
   "id": "cdf65ac2",
   "metadata": {},
   "outputs": [],
   "source": [
    "from keras.layers import Reshape"
   ]
  },
  {
   "cell_type": "code",
   "execution_count": 59,
   "id": "5d5be5c8",
   "metadata": {},
   "outputs": [],
   "source": [
    "decoder = Sequential()\n",
    "decoder.add(Dense(50,input_shape=[25],activation='relu'))\n",
    "\n",
    "#\n",
    "# Add as many layers in the decoder as you want. Reember - Encoder and decoder need to be symmetric.\n",
    "#\n",
    "decoder.add(Dense(100, activation='relu'))\n",
    "decoder.add(Dense(350, activation='tanh'))\n",
    "decoder.add(Dense(500, activation='sigmoid'))\n",
    "\n",
    "decoder.add(Dense(28 * 28, activation=\"sigmoid\"))\n",
    "decoder.add(Reshape([28, 28]))"
   ]
  },
  {
   "cell_type": "code",
   "execution_count": 60,
   "id": "a5a9c88b",
   "metadata": {},
   "outputs": [
    {
     "name": "stdout",
     "output_type": "stream",
     "text": [
      "Model: \"sequential_13\"\n",
      "_________________________________________________________________\n",
      " Layer (type)                Output Shape              Param #   \n",
      "=================================================================\n",
      " dense_50 (Dense)            (None, 50)                1300      \n",
      "                                                                 \n",
      " dense_51 (Dense)            (None, 100)               5100      \n",
      "                                                                 \n",
      " dense_52 (Dense)            (None, 350)               35350     \n",
      "                                                                 \n",
      " dense_53 (Dense)            (None, 500)               175500    \n",
      "                                                                 \n",
      " dense_54 (Dense)            (None, 784)               392784    \n",
      "                                                                 \n",
      " reshape_5 (Reshape)         (None, 28, 28)            0         \n",
      "                                                                 \n",
      "=================================================================\n",
      "Total params: 610034 (2.33 MB)\n",
      "Trainable params: 610034 (2.33 MB)\n",
      "Non-trainable params: 0 (0.00 Byte)\n",
      "_________________________________________________________________\n"
     ]
    }
   ],
   "source": [
    "# print the decoder model\n",
    "decoder.summary()"
   ]
  },
  {
   "cell_type": "code",
   "execution_count": 61,
   "id": "c06f65c9",
   "metadata": {},
   "outputs": [],
   "source": [
    "autoencoder = Sequential([encoder, decoder]) # Combine encoder and decoder together.\n"
   ]
  },
  {
   "cell_type": "code",
   "execution_count": 62,
   "id": "bef6ac33",
   "metadata": {
    "scrolled": true
   },
   "outputs": [
    {
     "name": "stdout",
     "output_type": "stream",
     "text": [
      "Model: \"sequential_14\"\n",
      "_________________________________________________________________\n",
      " Layer (type)                Output Shape              Param #   \n",
      "=================================================================\n",
      " sequential_12 (Sequential)  (None, 25)                748315    \n",
      "                                                                 \n",
      " sequential_13 (Sequential)  (None, 28, 28)            610034    \n",
      "                                                                 \n",
      "=================================================================\n",
      "Total params: 1358349 (5.18 MB)\n",
      "Trainable params: 1358349 (5.18 MB)\n",
      "Non-trainable params: 0 (0.00 Byte)\n",
      "_________________________________________________________________\n"
     ]
    }
   ],
   "source": [
    "# print the autoencoder model\n",
    "autoencoder.summary()"
   ]
  },
  {
   "cell_type": "code",
   "execution_count": 63,
   "id": "65d12619",
   "metadata": {},
   "outputs": [],
   "source": [
    "# Compile the autoencoder. Use binary_crossenropy as loss and metrics as accuracy.\n",
    "autoencoder.compile(loss='binary_crossentropy',\n",
    "              optimizer='rmsprop',\n",
    "              metrics=['accuracy'])"
   ]
  },
  {
   "cell_type": "code",
   "execution_count": 64,
   "id": "663c3828",
   "metadata": {},
   "outputs": [
    {
     "name": "stdout",
     "output_type": "stream",
     "text": [
      "Epoch 1/15\n",
      "1875/1875 [==============================] - 16s 8ms/step - loss: 0.2659 - accuracy: 0.0672 - val_loss: 0.2636 - val_accuracy: 0.0678\n",
      "Epoch 2/15\n",
      "1875/1875 [==============================] - 14s 7ms/step - loss: 0.2636 - accuracy: 0.0675 - val_loss: 0.2633 - val_accuracy: 0.0639\n",
      "Epoch 3/15\n",
      "1875/1875 [==============================] - 14s 7ms/step - loss: 0.2450 - accuracy: 0.0826 - val_loss: 0.2365 - val_accuracy: 0.0953\n",
      "Epoch 4/15\n",
      "1875/1875 [==============================] - 14s 7ms/step - loss: 0.2329 - accuracy: 0.0959 - val_loss: 0.2244 - val_accuracy: 0.1037\n",
      "Epoch 5/15\n",
      "1875/1875 [==============================] - 14s 7ms/step - loss: 0.2154 - accuracy: 0.1186 - val_loss: 0.2045 - val_accuracy: 0.1371\n",
      "Epoch 6/15\n",
      "1875/1875 [==============================] - 14s 7ms/step - loss: 0.1990 - accuracy: 0.1461 - val_loss: 0.1930 - val_accuracy: 0.1572\n",
      "Epoch 7/15\n",
      "1875/1875 [==============================] - 14s 7ms/step - loss: 0.1904 - accuracy: 0.1626 - val_loss: 0.1863 - val_accuracy: 0.1676\n",
      "Epoch 8/15\n",
      "1875/1875 [==============================] - 14s 7ms/step - loss: 0.1840 - accuracy: 0.1702 - val_loss: 0.1786 - val_accuracy: 0.1717\n",
      "Epoch 9/15\n",
      "1875/1875 [==============================] - 14s 7ms/step - loss: 0.1739 - accuracy: 0.1781 - val_loss: 0.1705 - val_accuracy: 0.1860\n",
      "Epoch 10/15\n",
      "1875/1875 [==============================] - 14s 7ms/step - loss: 0.1666 - accuracy: 0.1866 - val_loss: 0.1627 - val_accuracy: 0.1920\n",
      "Epoch 11/15\n",
      "1875/1875 [==============================] - 14s 7ms/step - loss: 0.1593 - accuracy: 0.1962 - val_loss: 0.1550 - val_accuracy: 0.1956\n",
      "Epoch 12/15\n",
      "1875/1875 [==============================] - 14s 7ms/step - loss: 0.1535 - accuracy: 0.2028 - val_loss: 0.1506 - val_accuracy: 0.2013\n",
      "Epoch 13/15\n",
      "1875/1875 [==============================] - 14s 7ms/step - loss: 0.1490 - accuracy: 0.2087 - val_loss: 0.1480 - val_accuracy: 0.2021\n",
      "Epoch 14/15\n",
      "1875/1875 [==============================] - 14s 7ms/step - loss: 0.1445 - accuracy: 0.2149 - val_loss: 0.1420 - val_accuracy: 0.2091\n",
      "Epoch 15/15\n",
      "1875/1875 [==============================] - 14s 7ms/step - loss: 0.1410 - accuracy: 0.2194 - val_loss: 0.1378 - val_accuracy: 0.2191\n"
     ]
    }
   ],
   "source": [
    "# Fit the autoencoder. Note - Input and output are same. x_train is your train data, x_test is your validation data.\n",
    "history = autoencoder.fit( x_train, x_train,\n",
    "                # the number of times of training using the whole dataset\n",
    "                    epochs=15,\n",
    "                    \n",
    "                    validation_data =(x_test,x_test),\n",
    "                    \n",
    "                # Boolean (whether to shuffle the training data before each epoch)\n",
    "                    shuffle = True,\n",
    "                \n",
    "                # 1 = progress bar printing\n",
    "                    verbose = 1)\n",
    "                    \n",
    "                # early stopping    \n",
    "                    #callbacks=[early_stop] )"
   ]
  },
  {
   "cell_type": "code",
   "execution_count": 65,
   "id": "d5053953",
   "metadata": {},
   "outputs": [
    {
     "data": {
      "text/plain": [
       "array([[0.        , 0.        , 0.        , 0.        , 0.        ,\n",
       "        0.        , 0.        , 0.        , 0.        , 0.        ,\n",
       "        0.        , 0.        , 0.        , 0.        , 0.        ,\n",
       "        0.        , 0.        , 0.        , 0.        , 0.        ,\n",
       "        0.        , 0.        , 0.        , 0.        , 0.        ,\n",
       "        0.        , 0.        , 0.        ],\n",
       "       [0.        , 0.        , 0.        , 0.        , 0.        ,\n",
       "        0.        , 0.        , 0.        , 0.        , 0.        ,\n",
       "        0.        , 0.        , 0.        , 0.        , 0.        ,\n",
       "        0.        , 0.        , 0.        , 0.        , 0.        ,\n",
       "        0.        , 0.        , 0.        , 0.        , 0.        ,\n",
       "        0.        , 0.        , 0.        ],\n",
       "       [0.        , 0.        , 0.        , 0.        , 0.        ,\n",
       "        0.        , 0.        , 0.        , 0.        , 0.        ,\n",
       "        0.        , 0.        , 0.        , 0.        , 0.        ,\n",
       "        0.        , 0.        , 0.        , 0.        , 0.        ,\n",
       "        0.        , 0.        , 0.        , 0.        , 0.        ,\n",
       "        0.        , 0.        , 0.        ],\n",
       "       [0.        , 0.        , 0.        , 0.        , 0.        ,\n",
       "        0.        , 0.        , 0.        , 0.        , 0.        ,\n",
       "        0.        , 0.        , 0.        , 0.        , 0.        ,\n",
       "        0.        , 0.        , 0.        , 0.        , 0.        ,\n",
       "        0.        , 0.        , 0.        , 0.        , 0.        ,\n",
       "        0.        , 0.        , 0.        ],\n",
       "       [0.        , 0.        , 0.        , 0.        , 0.        ,\n",
       "        0.        , 0.        , 0.        , 0.        , 0.        ,\n",
       "        0.        , 0.        , 0.        , 0.        , 0.        ,\n",
       "        0.        , 0.        , 0.        , 0.        , 0.        ,\n",
       "        0.        , 0.        , 0.        , 0.        , 0.        ,\n",
       "        0.        , 0.        , 0.        ],\n",
       "       [0.        , 0.        , 0.        , 0.        , 0.        ,\n",
       "        0.        , 0.        , 0.        , 0.        , 0.        ,\n",
       "        0.        , 0.        , 0.        , 0.        , 0.        ,\n",
       "        0.        , 0.        , 0.        , 0.        , 0.        ,\n",
       "        0.        , 0.        , 0.        , 0.        , 0.        ,\n",
       "        0.        , 0.        , 0.        ],\n",
       "       [0.        , 0.        , 0.        , 0.        , 0.        ,\n",
       "        0.        , 0.        , 0.        , 0.        , 0.        ,\n",
       "        0.        , 0.        , 0.        , 0.        , 0.        ,\n",
       "        0.        , 0.        , 0.        , 0.        , 0.        ,\n",
       "        0.        , 0.        , 0.        , 0.        , 0.        ,\n",
       "        0.        , 0.        , 0.        ],\n",
       "       [0.        , 0.        , 0.        , 0.        , 0.        ,\n",
       "        0.        , 0.        , 0.        , 0.        , 0.        ,\n",
       "        0.        , 0.        , 0.        , 0.14117647, 0.21960784,\n",
       "        0.5372549 , 0.78823529, 0.78039216, 0.37254902, 0.14509804,\n",
       "        0.        , 0.        , 0.        , 0.        , 0.        ,\n",
       "        0.        , 0.        , 0.        ],\n",
       "       [0.        , 0.        , 0.        , 0.        , 0.        ,\n",
       "        0.        , 0.        , 0.        , 0.        , 0.        ,\n",
       "        0.        , 0.17647059, 0.59607843, 0.91764706, 0.99607843,\n",
       "        0.99607843, 0.99607843, 0.99607843, 0.99607843, 0.98039216,\n",
       "        0.82745098, 0.59215686, 0.02352941, 0.        , 0.        ,\n",
       "        0.        , 0.        , 0.        ],\n",
       "       [0.        , 0.        , 0.        , 0.        , 0.        ,\n",
       "        0.        , 0.        , 0.        , 0.        , 0.18039216,\n",
       "        0.6       , 0.94117647, 0.99607843, 0.99607843, 0.89019608,\n",
       "        0.65098039, 0.52156863, 0.98431373, 0.78431373, 0.99607843,\n",
       "        0.89803922, 0.88235294, 0.40784314, 0.        , 0.        ,\n",
       "        0.        , 0.        , 0.        ],\n",
       "       [0.        , 0.        , 0.        , 0.        , 0.        ,\n",
       "        0.        , 0.        , 0.        , 0.6       , 0.91764706,\n",
       "        0.99607843, 0.99607843, 0.73333333, 0.55686275, 0.03137255,\n",
       "        0.        , 0.        , 0.74901961, 0.15686275, 0.77647059,\n",
       "        0.96470588, 0.8745098 , 0.99215686, 0.08235294, 0.        ,\n",
       "        0.        , 0.        , 0.        ],\n",
       "       [0.        , 0.        , 0.        , 0.        , 0.        ,\n",
       "        0.        , 0.03137255, 0.49411765, 0.99215686, 0.99607843,\n",
       "        0.91372549, 0.50196078, 0.04313725, 0.        , 0.        ,\n",
       "        0.        , 0.        , 0.82352941, 0.16862745, 0.2745098 ,\n",
       "        0.99607843, 0.99607843, 0.99607843, 0.08235294, 0.        ,\n",
       "        0.        , 0.        , 0.        ],\n",
       "       [0.        , 0.        , 0.        , 0.        , 0.        ,\n",
       "        0.        , 0.28235294, 0.95294118, 0.99607843, 0.89411765,\n",
       "        0.21176471, 0.        , 0.        , 0.        , 0.        ,\n",
       "        0.01176471, 0.1254902 , 0.45490196, 0.88235294, 0.94901961,\n",
       "        0.99607843, 1.        , 0.63529412, 0.01960784, 0.        ,\n",
       "        0.        , 0.        , 0.        ],\n",
       "       [0.        , 0.        , 0.        , 0.        , 0.        ,\n",
       "        0.        , 0.29411765, 0.94117647, 0.99607843, 0.8745098 ,\n",
       "        0.42745098, 0.54117647, 0.69803922, 0.69803922, 0.6627451 ,\n",
       "        0.82352941, 0.98431373, 0.90588235, 0.99607843, 0.99607843,\n",
       "        0.99607843, 0.90980392, 0.14901961, 0.        , 0.        ,\n",
       "        0.        , 0.        , 0.        ],\n",
       "       [0.        , 0.        , 0.        , 0.        , 0.        ,\n",
       "        0.        , 0.03529412, 0.68627451, 0.95686275, 0.99215686,\n",
       "        1.        , 0.99607843, 0.99607843, 0.98431373, 0.99607843,\n",
       "        0.99607843, 0.99607843, 0.99607843, 0.99607843, 0.98823529,\n",
       "        0.67058824, 0.09803922, 0.        , 0.        , 0.        ,\n",
       "        0.        , 0.        , 0.        ],\n",
       "       [0.        , 0.        , 0.        , 0.        , 0.        ,\n",
       "        0.        , 0.        , 0.        , 0.0627451 , 0.53333333,\n",
       "        0.76470588, 0.69019608, 0.57254902, 0.6       , 0.78431373,\n",
       "        0.99607843, 0.99607843, 0.99607843, 0.99607843, 0.58823529,\n",
       "        0.0627451 , 0.        , 0.        , 0.        , 0.        ,\n",
       "        0.        , 0.        , 0.        ],\n",
       "       [0.        , 0.        , 0.        , 0.        , 0.        ,\n",
       "        0.        , 0.        , 0.        , 0.        , 0.        ,\n",
       "        0.        , 0.        , 0.        , 0.        , 0.63529412,\n",
       "        0.99607843, 0.99607843, 0.94509804, 0.38823529, 0.01176471,\n",
       "        0.        , 0.        , 0.        , 0.        , 0.        ,\n",
       "        0.        , 0.        , 0.        ],\n",
       "       [0.        , 0.        , 0.        , 0.        , 0.        ,\n",
       "        0.        , 0.        , 0.        , 0.        , 0.        ,\n",
       "        0.        , 0.        , 0.        , 0.4627451 , 0.98039216,\n",
       "        0.99607843, 0.99607843, 0.35294118, 0.        , 0.        ,\n",
       "        0.        , 0.        , 0.        , 0.        , 0.        ,\n",
       "        0.        , 0.        , 0.        ],\n",
       "       [0.        , 0.        , 0.        , 0.        , 0.        ,\n",
       "        0.        , 0.        , 0.        , 0.        , 0.        ,\n",
       "        0.        , 0.        , 0.39215686, 0.94901961, 0.99607843,\n",
       "        0.99607843, 0.82745098, 0.02745098, 0.        , 0.        ,\n",
       "        0.        , 0.        , 0.        , 0.        , 0.        ,\n",
       "        0.        , 0.        , 0.        ],\n",
       "       [0.        , 0.        , 0.        , 0.        , 0.        ,\n",
       "        0.        , 0.        , 0.        , 0.        , 0.        ,\n",
       "        0.        , 0.21176471, 0.94509804, 0.99607843, 0.99607843,\n",
       "        0.94901961, 0.23137255, 0.        , 0.        , 0.        ,\n",
       "        0.        , 0.        , 0.        , 0.        , 0.        ,\n",
       "        0.        , 0.        , 0.        ],\n",
       "       [0.        , 0.        , 0.        , 0.        , 0.        ,\n",
       "        0.        , 0.        , 0.        , 0.        , 0.        ,\n",
       "        0.        , 0.51372549, 0.99607843, 0.99607843, 0.95686275,\n",
       "        0.25098039, 0.        , 0.        , 0.        , 0.        ,\n",
       "        0.        , 0.        , 0.        , 0.        , 0.        ,\n",
       "        0.        , 0.        , 0.        ],\n",
       "       [0.        , 0.        , 0.        , 0.        , 0.        ,\n",
       "        0.        , 0.        , 0.        , 0.        , 0.        ,\n",
       "        0.05098039, 0.97647059, 0.99607843, 0.99607843, 0.59607843,\n",
       "        0.        , 0.        , 0.        , 0.        , 0.        ,\n",
       "        0.        , 0.        , 0.        , 0.        , 0.        ,\n",
       "        0.        , 0.        , 0.        ],\n",
       "       [0.        , 0.        , 0.        , 0.        , 0.        ,\n",
       "        0.        , 0.        , 0.        , 0.        , 0.04705882,\n",
       "        0.89411765, 0.99607843, 0.99607843, 0.81568627, 0.03137255,\n",
       "        0.        , 0.        , 0.        , 0.        , 0.        ,\n",
       "        0.        , 0.        , 0.        , 0.        , 0.        ,\n",
       "        0.        , 0.        , 0.        ],\n",
       "       [0.        , 0.        , 0.        , 0.        , 0.        ,\n",
       "        0.        , 0.        , 0.        , 0.        , 0.30588235,\n",
       "        1.        , 0.99607843, 0.99607843, 0.25882353, 0.        ,\n",
       "        0.        , 0.        , 0.        , 0.        , 0.        ,\n",
       "        0.        , 0.        , 0.        , 0.        , 0.        ,\n",
       "        0.        , 0.        , 0.        ],\n",
       "       [0.        , 0.        , 0.        , 0.        , 0.        ,\n",
       "        0.        , 0.        , 0.        , 0.        , 0.81960784,\n",
       "        0.99607843, 0.99607843, 0.5372549 , 0.        , 0.        ,\n",
       "        0.        , 0.        , 0.        , 0.        , 0.        ,\n",
       "        0.        , 0.        , 0.        , 0.        , 0.        ,\n",
       "        0.        , 0.        , 0.        ],\n",
       "       [0.        , 0.        , 0.        , 0.        , 0.        ,\n",
       "        0.        , 0.        , 0.        , 0.        , 0.89019608,\n",
       "        1.        , 0.91372549, 0.09803922, 0.        , 0.        ,\n",
       "        0.        , 0.        , 0.        , 0.        , 0.        ,\n",
       "        0.        , 0.        , 0.        , 0.        , 0.        ,\n",
       "        0.        , 0.        , 0.        ],\n",
       "       [0.        , 0.        , 0.        , 0.        , 0.        ,\n",
       "        0.        , 0.        , 0.        , 0.        , 0.44313725,\n",
       "        1.        , 0.42352941, 0.        , 0.        , 0.        ,\n",
       "        0.        , 0.        , 0.        , 0.        , 0.        ,\n",
       "        0.        , 0.        , 0.        , 0.        , 0.        ,\n",
       "        0.        , 0.        , 0.        ],\n",
       "       [0.        , 0.        , 0.        , 0.        , 0.        ,\n",
       "        0.        , 0.        , 0.        , 0.        , 0.        ,\n",
       "        0.        , 0.        , 0.        , 0.        , 0.        ,\n",
       "        0.        , 0.        , 0.        , 0.        , 0.        ,\n",
       "        0.        , 0.        , 0.        , 0.        , 0.        ,\n",
       "        0.        , 0.        , 0.        ]])"
      ]
     },
     "execution_count": 65,
     "metadata": {},
     "output_type": "execute_result"
    }
   ],
   "source": [
    "x_test[i]"
   ]
  },
  {
   "cell_type": "code",
   "execution_count": 66,
   "id": "57e7e5fe",
   "metadata": {},
   "outputs": [
    {
     "name": "stdout",
     "output_type": "stream",
     "text": [
      "313/313 [==============================] - 1s 3ms/step\n"
     ]
    },
    {
     "data": {
      "image/png": "[encoded data removed]",
      "text/plain": [
       "<Figure size 2800x2800 with 20 Axes>"
      ]
     },
     "metadata": {},
     "output_type": "display_data"
    }
   ],
   "source": [
    "# Check a few sample images.\n",
    "decoded_imgs = autoencoder.predict(x_test)\n",
    "\n",
    "n = 10\n",
    "\n",
    "plt.figure(figsize=(28, 28))\n",
    "\n",
    "for i in range(n):\n",
    "    # \n",
    "    # Display original image - Just line sample code provided earlier.\n",
    "    #\n",
    "    ax = plt.subplot(2, n, i + 1)\n",
    "    plt.imshow(x_test[i].reshape(28,28))\n",
    "    plt.gray()\n",
    "    ax.get_xaxis().set_visible(False)\n",
    "    ax.get_yaxis().set_visible(False)\n",
    "\n",
    "    # \n",
    "    # Display reconstruced (decoded) images. You need to slightly change your code.\n",
    "    #\n",
    "    ax = plt.subplot(2, n, i+1+n)\n",
    "    plt.imshow(decoded_imgs[i].reshape(28, 28))\n",
    "    plt.gray()\n",
    "    ax.get_xaxis().set_visible(False)\n",
    "    ax.get_yaxis().set_visible(False)\n",
    "\n",
    "    \n",
    "plt.show()"
   ]
  },
  {
   "cell_type": "code",
   "execution_count": 67,
   "id": "cf5847f7",
   "metadata": {},
   "outputs": [],
   "source": [
    "from tensorflow.keras.layers import GaussianNoise"
   ]
  },
  {
   "cell_type": "code",
   "execution_count": 68,
   "id": "8a8c1b0f",
   "metadata": {},
   "outputs": [],
   "source": [
    "sample = GaussianNoise(0.2)\n",
    "noisey = sample(x_test[0:2],training=True)"
   ]
  },
  {
   "cell_type": "code",
   "execution_count": 69,
   "id": "a438c848",
   "metadata": {},
   "outputs": [
    {
     "data": {
      "text/plain": [
       "<matplotlib.image.AxesImage at 0x1c19483c0d0>"
      ]
     },
     "execution_count": 69,
     "metadata": {},
     "output_type": "execute_result"
    },
    {
     "data": {
      "image/png": "[encoded data removed]",
      "text/plain": [
       "<Figure size 640x480 with 1 Axes>"
      ]
     },
     "metadata": {},
     "output_type": "display_data"
    }
   ],
   "source": [
    "plt.imshow(x_test[0])"
   ]
  },
  {
   "cell_type": "code",
   "execution_count": 70,
   "id": "49cfb6ff",
   "metadata": {},
   "outputs": [
    {
     "data": {
      "text/plain": [
       "<matplotlib.image.AxesImage at 0x1c194868d90>"
      ]
     },
     "execution_count": 70,
     "metadata": {},
     "output_type": "execute_result"
    },
    {
     "data": {
      "image/png": "[encoded data removed]",
      "text/plain": [
       "<Figure size 640x480 with 1 Axes>"
      ]
     },
     "metadata": {},
     "output_type": "display_data"
    }
   ],
   "source": [
    "plt.imshow(noisey[0])"
   ]
  },
  {
   "cell_type": "code",
   "execution_count": 71,
   "id": "c472b6e7",
   "metadata": {},
   "outputs": [],
   "source": [
    "\n",
    "encoder = Sequential()\n",
    "encoder.add(Flatten(input_shape=[28,28]))\n",
    "encoder.add(GaussianNoise(0.2)) # We are adding noise to make input as noisy image\n",
    "#\n",
    "# Add layers of encoder network. You could use same number of layers as earlier.\n",
    "#\n",
    "encoder.add(Dense(500, activation='sigmoid'))\n",
    "encoder.add(Dense(400, activation='tanh'))\n",
    "encoder.add(Dense(350, activation='sigmoid'))\n",
    "encoder.add(Dense(40, activation='relu'))\n",
    "encoder.add(Dense(25, activation='tanh'))\n",
    "\n",
    "\n"
   ]
  },
  {
   "cell_type": "code",
   "execution_count": 72,
   "id": "e14adc59",
   "metadata": {},
   "outputs": [],
   "source": [
    "decoder = Sequential()\n",
    "decoder.add(Dense(50,input_shape=[25],activation='relu'))\n",
    "\n",
    "#\n",
    "# Add layers of decoder network. You could use same number of layers as earlier.\n",
    "#\n",
    "decoder.add(Dense(100, activation='relu'))\n",
    "decoder.add(Dense(350, activation='tanh'))\n",
    "decoder.add(Dense(500, activation='sigmoid'))\n",
    "\n",
    "decoder.add(Dense(28 * 28, activation=\"sigmoid\"))\n",
    "decoder.add(Reshape([28, 28]))"
   ]
  },
  {
   "cell_type": "code",
   "execution_count": 73,
   "id": "29fe89d0",
   "metadata": {},
   "outputs": [],
   "source": [
    "noise_remover = Sequential([encoder, decoder])"
   ]
  },
  {
   "cell_type": "code",
   "execution_count": 74,
   "id": "48205fa5",
   "metadata": {},
   "outputs": [],
   "source": [
    "# Compile the network as earlier\n",
    "noise_remover.compile(loss='binary_crossentropy',\n",
    "              optimizer='rmsprop',\n",
    "              metrics=['accuracy'])"
   ]
  },
  {
   "cell_type": "code",
   "execution_count": 75,
   "id": "cfb1249e",
   "metadata": {},
   "outputs": [
    {
     "name": "stdout",
     "output_type": "stream",
     "text": [
      "Epoch 1/15\n",
      "1875/1875 [==============================] - 17s 8ms/step - loss: 0.2659 - accuracy: 0.0671 - val_loss: 0.2635 - val_accuracy: 0.0659\n",
      "Epoch 2/15\n",
      "1875/1875 [==============================] - 14s 7ms/step - loss: 0.2567 - accuracy: 0.0716 - val_loss: 0.2411 - val_accuracy: 0.0869\n",
      "Epoch 3/15\n",
      "1875/1875 [==============================] - 14s 7ms/step - loss: 0.2379 - accuracy: 0.0920 - val_loss: 0.2318 - val_accuracy: 0.1041\n",
      "Epoch 4/15\n",
      "1875/1875 [==============================] - 14s 7ms/step - loss: 0.2217 - accuracy: 0.1082 - val_loss: 0.2099 - val_accuracy: 0.1278\n",
      "Epoch 5/15\n",
      "1875/1875 [==============================] - 14s 7ms/step - loss: 0.2031 - accuracy: 0.1399 - val_loss: 0.1963 - val_accuracy: 0.1551\n",
      "Epoch 6/15\n",
      "1875/1875 [==============================] - 14s 7ms/step - loss: 0.1935 - accuracy: 0.1592 - val_loss: 0.1887 - val_accuracy: 0.1637\n",
      "Epoch 7/15\n",
      "1875/1875 [==============================] - 14s 7ms/step - loss: 0.1869 - accuracy: 0.1675 - val_loss: 0.1805 - val_accuracy: 0.1722\n",
      "Epoch 8/15\n",
      "1875/1875 [==============================] - 14s 7ms/step - loss: 0.1770 - accuracy: 0.1751 - val_loss: 0.1718 - val_accuracy: 0.1811\n",
      "Epoch 9/15\n",
      "1875/1875 [==============================] - 14s 7ms/step - loss: 0.1710 - accuracy: 0.1835 - val_loss: 0.1671 - val_accuracy: 0.1894\n",
      "Epoch 10/15\n",
      "1875/1875 [==============================] - 14s 7ms/step - loss: 0.1661 - accuracy: 0.1890 - val_loss: 0.1628 - val_accuracy: 0.1881\n",
      "Epoch 11/15\n",
      "1875/1875 [==============================] - 14s 7ms/step - loss: 0.1595 - accuracy: 0.1972 - val_loss: 0.1555 - val_accuracy: 0.2029\n",
      "Epoch 12/15\n",
      "1875/1875 [==============================] - 14s 7ms/step - loss: 0.1540 - accuracy: 0.2040 - val_loss: 0.1494 - val_accuracy: 0.2085\n",
      "Epoch 13/15\n",
      "1875/1875 [==============================] - 14s 7ms/step - loss: 0.1497 - accuracy: 0.2088 - val_loss: 0.1450 - val_accuracy: 0.2134\n",
      "Epoch 14/15\n",
      "1875/1875 [==============================] - 14s 7ms/step - loss: 0.1460 - accuracy: 0.2134 - val_loss: 0.1434 - val_accuracy: 0.2096\n",
      "Epoch 15/15\n",
      "1875/1875 [==============================] - 14s 7ms/step - loss: 0.1429 - accuracy: 0.2167 - val_loss: 0.1381 - val_accuracy: 0.2193\n"
     ]
    }
   ],
   "source": [
    "# Fit the network as earlier.\n",
    "history2 = noise_remover.fit( x_train, x_train,\n",
    "                # the number of times of training using the whole dataset\n",
    "                    epochs=15,\n",
    "                    \n",
    "                    validation_data =(x_test,x_test),\n",
    "                    \n",
    "                # Boolean (whether to shuffle the training data before each epoch)\n",
    "                    shuffle = True,\n",
    "                \n",
    "                # 1 = progress bar printing\n",
    "                    verbose = 1)\n",
    "                    \n",
    "                # early stopping    \n",
    "                    #callbacks=[early_stop] )"
   ]
  },
  {
   "cell_type": "code",
   "execution_count": 76,
   "id": "43b71cdf",
   "metadata": {},
   "outputs": [],
   "source": [
    "ten_noisey_images = sample(x_test[0:10],training=True)\n",
    "denoised = noise_remover(ten_noisey_images[0:10])"
   ]
  },
  {
   "cell_type": "code",
   "execution_count": 77,
   "id": "b25bb53e",
   "metadata": {},
   "outputs": [
    {
     "name": "stdout",
     "output_type": "stream",
     "text": [
      "The Original\n"
     ]
    },
    {
     "data": {
      "image/png": "[encoded data removed]",
      "text/plain": [
       "<Figure size 640x480 with 1 Axes>"
      ]
     },
     "metadata": {},
     "output_type": "display_data"
    },
    {
     "name": "stdout",
     "output_type": "stream",
     "text": [
      "The Noisey Version\n"
     ]
    },
    {
     "data": {
      "image/png": "[encoded data removed]",
      "text/plain": [
       "<Figure size 640x480 with 1 Axes>"
      ]
     },
     "metadata": {},
     "output_type": "display_data"
    },
    {
     "name": "stdout",
     "output_type": "stream",
     "text": [
      "After going through denoiser\n"
     ]
    },
    {
     "data": {
      "image/png": "[encoded data removed]",
      "text/plain": [
       "<Figure size 640x480 with 1 Axes>"
      ]
     },
     "metadata": {},
     "output_type": "display_data"
    }
   ],
   "source": [
    "n = 4\n",
    "print(\"The Original\")\n",
    "plt.imshow(x_test[n])\n",
    "plt.show()\n",
    "\n",
    "\n",
    "print(\"The Noisey Version\")\n",
    "plt.imshow(ten_noisey_images[n])\n",
    "plt.show()\n",
    "\n",
    "\n",
    "print(\"After going through denoiser\")\n",
    "plt.imshow(denoised[n])\n",
    "plt.show()"
   ]
  },
  {
   "cell_type": "code",
   "execution_count": 78,
   "id": "f67d0bb1",
   "metadata": {},
   "outputs": [
    {
     "name": "stdout",
     "output_type": "stream",
     "text": [
      "Model: \"sequential_17\"\n",
      "_________________________________________________________________\n",
      " Layer (type)                Output Shape              Param #   \n",
      "=================================================================\n",
      " sequential_15 (Sequential)  (None, 25)                748315    \n",
      "                                                                 \n",
      " sequential_16 (Sequential)  (None, 28, 28)            610034    \n",
      "                                                                 \n",
      "=================================================================\n",
      "Total params: 1358349 (5.18 MB)\n",
      "Trainable params: 1358349 (5.18 MB)\n",
      "Non-trainable params: 0 (0.00 Byte)\n",
      "_________________________________________________________________\n"
     ]
    }
   ],
   "source": [
    "noise_remover.summary()"
   ]
  },
  {
   "cell_type": "code",
   "execution_count": null,
   "id": "26abca76",
   "metadata": {},
   "outputs": [],
   "source": []
  },
  {
   "cell_type": "code",
   "execution_count": null,
   "id": "3cc0f322",
   "metadata": {},
   "outputs": [],
   "source": []
  },
  {
   "cell_type": "code",
   "execution_count": null,
   "id": "249a5fdf",
   "metadata": {},
   "outputs": [],
   "source": []
  },
  {
   "cell_type": "code",
   "execution_count": null,
   "id": "b3db89a7",
   "metadata": {},
   "outputs": [],
   "source": []
  }
 ],
 "metadata": {
  "kernelspec": {
   "display_name": "Python 3 (ipykernel)",
   "language": "python",
   "name": "python3"
  },
  "language_info": {
   "codemirror_mode": {
    "name": "ipython",
    "version": 3
   },
   "file_extension": ".py",
   "mimetype": "text/x-python",
   "name": "python",
   "nbconvert_exporter": "python",
   "pygments_lexer": "ipython3",
   "version": "3.11.5"
  }
 },
 "nbformat": 4,
 "nbformat_minor": 5
}
