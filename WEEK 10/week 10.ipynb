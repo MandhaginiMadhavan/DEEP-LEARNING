{
 "cells": [
  {
   "cell_type": "code",
   "execution_count": 65,
   "id": "4f13ab1f",
   "metadata": {},
   "outputs": [],
   "source": [
    "import numpy as np\n",
    "import tensorflow as tf\n",
    "from tensorflow.keras.datasets import mnist\n",
    "from tensorflow.keras.models import Sequential\n",
    "from tensorflow.keras.layers import Dense, Flatten\n",
    "from tensorflow.keras.optimizers import SGD\n",
    "from sklearn.model_selection import train_test_split\n",
    "from keras import backend as K\n",
    "import random"
   ]
  },
  {
   "cell_type": "code",
   "execution_count": 66,
   "id": "a9bee24e",
   "metadata": {},
   "outputs": [],
   "source": [
    "\n",
    "np.random.seed(2298453) \n",
    "#\n",
    "random.seed(2298453)\n",
    "\n",
    "\n",
    "tf.random.set_seed(2298453)\n",
    "\n",
    "K.clear_session() # Set seed for Keras"
   ]
  },
  {
   "cell_type": "code",
   "execution_count": 67,
   "id": "bde03cc4",
   "metadata": {},
   "outputs": [],
   "source": [
    "# Load MNIST dataset\n",
    "(x_train, y_train), (x_test, y_test) = mnist.load_data()"
   ]
  },
  {
   "cell_type": "code",
   "execution_count": 68,
   "id": "826e214c",
   "metadata": {},
   "outputs": [],
   "source": [
    "# Normalize and reshape data\n",
    "x_train = x_train.astype('float32') / 255.0\n",
    "x_test = x_test.astype('float32') / 255.0\n",
    "x_train = np.expand_dims(x_train, -1)\n",
    "x_test = np.expand_dims(x_test, -1)"
   ]
  },
  {
   "cell_type": "code",
   "execution_count": 69,
   "id": "1584277f",
   "metadata": {},
   "outputs": [
    {
     "name": "stdout",
     "output_type": "stream",
     "text": [
      "(60000, 28, 28, 1)\n",
      "(10000, 28, 28, 1)\n"
     ]
    }
   ],
   "source": [
    "print(x_train.shape)\n",
    "print(x_test.shape)"
   ]
  },
  {
   "cell_type": "code",
   "execution_count": 70,
   "id": "67a2a81b",
   "metadata": {},
   "outputs": [],
   "source": [
    "# Define client functions\n",
    "def create_client_model():\n",
    "    model = Sequential([\n",
    "        Flatten(input_shape=(28, 28, 1)),\n",
    "        Dense(128, activation='relu'),\n",
    "        Dense(10, activation='softmax')\n",
    "    ])\n",
    "    model.compile(optimizer='adam', loss='sparse_categorical_crossentropy', metrics=['accuracy'])\n",
    "    return model\n",
    "\n",
    "def train_client_model(model, x_train, y_train, epochs=5):\n",
    "    model.fit(x_train, y_train, epochs=epochs, \n",
    "              #verbose=0,\n",
    "             verbose=1)\n",
    "    return model"
   ]
  },
  {
   "cell_type": "code",
   "execution_count": 71,
   "id": "07d0efbe",
   "metadata": {},
   "outputs": [],
   "source": [
    "# Split data into two clients\n",
    "x_train_c1, x_train_c2, y_train_c1, y_train_c2 = train_test_split(x_train, y_train, test_size=0.5, \n",
    "                                                                  #random_state=42,\n",
    "                                                  # Put your SID instead of number '42'                \n",
    "                                                                  random_state= 2167288\n",
    "                                                                 )"
   ]
  },
  {
   "cell_type": "code",
   "execution_count": 72,
   "id": "8df5efc1",
   "metadata": {},
   "outputs": [
    {
     "name": "stdout",
     "output_type": "stream",
     "text": [
      "(30000, 28, 28, 1)\n",
      "(30000, 28, 28, 1)\n",
      "(30000,)\n",
      "(30000,)\n"
     ]
    }
   ],
   "source": [
    "print(x_train_c1.shape)\n",
    "print(x_train_c2.shape)\n",
    "print(y_train_c1.shape)\n",
    "print(y_train_c2.shape)"
   ]
  },
  {
   "cell_type": "code",
   "execution_count": 73,
   "id": "8c9e0b48",
   "metadata": {},
   "outputs": [
    {
     "name": "stdout",
     "output_type": "stream",
     "text": [
      "Epoch 1/5\n",
      "938/938 [==============================] - 3s 2ms/step - loss: 0.3436 - accuracy: 0.9036\n",
      "Epoch 2/5\n",
      "938/938 [==============================] - 2s 2ms/step - loss: 0.1656 - accuracy: 0.9516\n",
      "Epoch 3/5\n",
      "938/938 [==============================] - 2s 2ms/step - loss: 0.1148 - accuracy: 0.9667\n",
      "Epoch 4/5\n",
      "938/938 [==============================] - 2s 2ms/step - loss: 0.0857 - accuracy: 0.9746\n",
      "Epoch 5/5\n",
      "938/938 [==============================] - 2s 2ms/step - loss: 0.0648 - accuracy: 0.9813\n",
      "Epoch 1/5\n",
      "938/938 [==============================] - 3s 2ms/step - loss: 0.3497 - accuracy: 0.8994\n",
      "Epoch 2/5\n",
      "938/938 [==============================] - 2s 2ms/step - loss: 0.1614 - accuracy: 0.9532\n",
      "Epoch 3/5\n",
      "938/938 [==============================] - 2s 2ms/step - loss: 0.1125 - accuracy: 0.9669\n",
      "Epoch 4/5\n",
      "938/938 [==============================] - 2s 2ms/step - loss: 0.0821 - accuracy: 0.9766\n",
      "Epoch 5/5\n",
      "938/938 [==============================] - 2s 2ms/step - loss: 0.0636 - accuracy: 0.9812\n"
     ]
    }
   ],
   "source": [
    "# Create and train client models\n",
    "\n",
    "client1_model = create_client_model()\n",
    "client2_model = create_client_model()\n",
    "\n",
    "client1_model = train_client_model(client1_model, x_train_c1, y_train_c1)\n",
    "client2_model = train_client_model(client2_model, x_train_c2, y_train_c2)"
   ]
  },
  {
   "cell_type": "code",
   "execution_count": 74,
   "id": "58ecb39e",
   "metadata": {},
   "outputs": [],
   "source": [
    "# Federated averaging\n",
    "\n",
    "def federated_average_weights(weights1, weights2):\n",
    "    new_weights = []\n",
    "    for w1, w2 in zip(weights1, weights2):\n",
    "        new_weights.append((w1 + w2) / 2)\n",
    "    return new_weights"
   ]
  },
  {
   "cell_type": "code",
   "execution_count": 75,
   "id": "e6a152b1",
   "metadata": {},
   "outputs": [],
   "source": [
    "# Aggregate models\n",
    "\n",
    "aggregated_weights = federated_average_weights(client1_model.get_weights(), client2_model.get_weights())"
   ]
  },
  {
   "cell_type": "code",
   "execution_count": 76,
   "id": "a54b92c6",
   "metadata": {},
   "outputs": [],
   "source": [
    "# Create global model and set weights\n",
    "\n",
    "global_model = create_client_model()\n",
    "global_model.set_weights(aggregated_weights)"
   ]
  },
  {
   "cell_type": "code",
   "execution_count": 77,
   "id": "497f3f43",
   "metadata": {},
   "outputs": [
    {
     "name": "stdout",
     "output_type": "stream",
     "text": [
      "313/313 - 1s - loss: 0.4197 - accuracy: 0.8764 - 720ms/epoch - 2ms/step\n",
      "Test accuracy: 0.8763999938964844\n"
     ]
    }
   ],
   "source": [
    "# Evaluate global model\n",
    "\n",
    "test_loss, test_acc = global_model.evaluate(x_test, y_test, verbose=2)\n",
    "print('Test accuracy:', test_acc)"
   ]
  },
  {
   "cell_type": "code",
   "execution_count": 78,
   "id": "03baccfd",
   "metadata": {},
   "outputs": [],
   "source": [
    "test_accuracy = []"
   ]
  },
  {
   "cell_type": "code",
   "execution_count": 79,
   "id": "25f826a2",
   "metadata": {},
   "outputs": [],
   "source": [
    "test_accuracy.append(0.8851000070571899)"
   ]
  },
  {
   "cell_type": "code",
   "execution_count": 80,
   "id": "dfb60942",
   "metadata": {},
   "outputs": [
    {
     "data": {
      "text/plain": [
       "[0.8851000070571899]"
      ]
     },
     "execution_count": 80,
     "metadata": {},
     "output_type": "execute_result"
    }
   ],
   "source": [
    "test_accuracy"
   ]
  },
  {
   "cell_type": "code",
   "execution_count": 81,
   "id": "cfea935d",
   "metadata": {},
   "outputs": [],
   "source": [
    "from sklearn.metrics import classification_report\n",
    "from sklearn.metrics import accuracy_score, precision_score, recall_score, f1_score"
   ]
  },
  {
   "cell_type": "code",
   "execution_count": 82,
   "id": "b6207eb5",
   "metadata": {},
   "outputs": [
    {
     "name": "stdout",
     "output_type": "stream",
     "text": [
      "313/313 [==============================] - 0s 1ms/step\n",
      "(10000, 10)\n"
     ]
    }
   ],
   "source": [
    "predictions = global_model.predict(x_test)\n",
    "print(predictions.shape)\n",
    "\n",
    "predictions = list(predictions.argmax(axis=1))"
   ]
  },
  {
   "cell_type": "code",
   "execution_count": 83,
   "id": "8106a1bc",
   "metadata": {},
   "outputs": [
    {
     "name": "stdout",
     "output_type": "stream",
     "text": [
      "              precision    recall  f1-score   support\n",
      "\n",
      "           0       0.98      0.93      0.95       980\n",
      "           1       0.95      0.86      0.90      1135\n",
      "           2       0.78      0.96      0.86      1032\n",
      "           3       0.75      0.95      0.83      1010\n",
      "           4       0.97      0.89      0.93       982\n",
      "           5       0.82      0.94      0.88       892\n",
      "           6       0.98      0.87      0.92       958\n",
      "           7       0.82      0.95      0.88      1028\n",
      "           8       0.95      0.57      0.71       974\n",
      "           9       0.92      0.85      0.88      1009\n",
      "\n",
      "    accuracy                           0.88     10000\n",
      "   macro avg       0.89      0.88      0.87     10000\n",
      "weighted avg       0.89      0.88      0.87     10000\n",
      "\n"
     ]
    }
   ],
   "source": [
    "print(classification_report(y_test, predictions))"
   ]
  },
  {
   "cell_type": "code",
   "execution_count": 84,
   "id": "65a13c36",
   "metadata": {},
   "outputs": [
    {
     "name": "stdout",
     "output_type": "stream",
     "text": [
      "Accuracy test set:  0.8764\n",
      "Precision test set:  0.8904988373043096\n",
      "Recall test set:  0.8764\n",
      "F-score test set:  0.8748186111855937\n"
     ]
    }
   ],
   "source": [
    "print(\"Accuracy test set: \", accuracy_score(y_test, predictions))\n",
    "\n",
    "print(\"Precision test set: \", precision_score(y_test, predictions, average = 'weighted' )) \n",
    "print(\"Recall test set: \", recall_score(y_test, predictions, average = 'weighted' ))\n",
    "print(\"F-score test set: \", f1_score(y_test, predictions, average = 'weighted' ))"
   ]
  },
  {
   "cell_type": "code",
   "execution_count": 85,
   "id": "6e0141a0",
   "metadata": {},
   "outputs": [],
   "source": [
    "test_precision = []\n",
    "test_recall    = []\n",
    "test_f1_score  = []"
   ]
  },
  {
   "cell_type": "code",
   "execution_count": 86,
   "id": "8b753197",
   "metadata": {},
   "outputs": [],
   "source": [
    "test_precision.append(0.907323157047967)\n",
    "test_recall.append(0.8851)\n",
    "test_f1_score.append(0.8851514824563385)"
   ]
  },
  {
   "cell_type": "code",
   "execution_count": 87,
   "id": "bfebd404",
   "metadata": {},
   "outputs": [],
   "source": [
    "from sklearn.metrics import confusion_matrix, ConfusionMatrixDisplay"
   ]
  },
  {
   "cell_type": "code",
   "execution_count": 88,
   "id": "bb3ca552",
   "metadata": {},
   "outputs": [
    {
     "data": {
      "image/png": "[encoded data removed]",
      "text/plain": [
       "<Figure size 640x480 with 2 Axes>"
      ]
     },
     "metadata": {},
     "output_type": "display_data"
    }
   ],
   "source": [
    "# display confusion matrix between test output and predicted output\n",
    "\n",
    "cm = confusion_matrix(y_test, predictions) \n",
    "disp = ConfusionMatrixDisplay(confusion_matrix = cm)\n",
    "disp.plot();\n",
    "#plt.show()"
   ]
  },
  {
   "cell_type": "code",
   "execution_count": 89,
   "id": "b1f8f841",
   "metadata": {},
   "outputs": [],
   "source": [
    "Client_1 = (x_train[0:15000], y_train[0:15000])\n",
    "Client_2 = (x_train[15000:30000], y_train[15000:30000])\n",
    "Client_3 = (x_train[30000:45000], y_train[30000:45000])\n",
    "Client_4 = (x_train[45000:], y_train[45000:])"
   ]
  },
  {
   "cell_type": "code",
   "execution_count": 90,
   "id": "88fc5e92",
   "metadata": {},
   "outputs": [
    {
     "name": "stdout",
     "output_type": "stream",
     "text": [
      "(15000, 28, 28, 1)\n",
      "(15000, 28, 28, 1)\n",
      "(15000, 28, 28, 1)\n",
      "(15000, 28, 28, 1)\n",
      "(15000,)\n",
      "(15000,)\n",
      "(15000,)\n",
      "(15000,)\n"
     ]
    }
   ],
   "source": [
    "print(Client_1[0].shape)\n",
    "print(Client_2[0].shape)\n",
    "print(Client_3[0].shape)\n",
    "print(Client_4[0].shape)\n",
    "\n",
    "print(Client_1[1].shape)\n",
    "print(Client_2[1].shape)\n",
    "print(Client_3[1].shape)\n",
    "print(Client_4[1].shape)"
   ]
  },
  {
   "cell_type": "code",
   "execution_count": 91,
   "id": "5015d676",
   "metadata": {},
   "outputs": [
    {
     "name": "stdout",
     "output_type": "stream",
     "text": [
      "Epoch 1/5\n",
      "469/469 [==============================] - 2s 2ms/step - loss: 0.4591 - accuracy: 0.8737\n",
      "Epoch 2/5\n",
      "469/469 [==============================] - 1s 2ms/step - loss: 0.2141 - accuracy: 0.9411\n",
      "Epoch 3/5\n",
      "469/469 [==============================] - 1s 2ms/step - loss: 0.1502 - accuracy: 0.9565\n",
      "Epoch 4/5\n",
      "469/469 [==============================] - 1s 2ms/step - loss: 0.1117 - accuracy: 0.9687\n",
      "Epoch 5/5\n",
      "469/469 [==============================] - 1s 2ms/step - loss: 0.0856 - accuracy: 0.9753\n",
      "Epoch 1/5\n",
      "469/469 [==============================] - 3s 2ms/step - loss: 2.3166 - accuracy: 0.1026\n",
      "Epoch 2/5\n",
      "469/469 [==============================] - 1s 2ms/step - loss: 2.2956 - accuracy: 0.1187\n",
      "Epoch 3/5\n",
      "469/469 [==============================] - 1s 2ms/step - loss: 2.2866 - accuracy: 0.1317\n",
      "Epoch 4/5\n",
      "469/469 [==============================] - 1s 2ms/step - loss: 2.2711 - accuracy: 0.1451\n",
      "Epoch 5/5\n",
      "469/469 [==============================] - 1s 2ms/step - loss: 2.2511 - accuracy: 0.1589\n",
      "Epoch 1/5\n",
      "469/469 [==============================] - 2s 2ms/step - loss: 2.3167 - accuracy: 0.1048\n",
      "Epoch 2/5\n",
      "469/469 [==============================] - 1s 2ms/step - loss: 2.2965 - accuracy: 0.1215\n",
      "Epoch 3/5\n",
      "469/469 [==============================] - 1s 2ms/step - loss: 2.2853 - accuracy: 0.1311\n",
      "Epoch 4/5\n",
      "469/469 [==============================] - 1s 2ms/step - loss: 2.2700 - accuracy: 0.1463\n",
      "Epoch 5/5\n",
      "469/469 [==============================] - 1s 2ms/step - loss: 2.2476 - accuracy: 0.1591\n",
      "Epoch 1/5\n",
      "469/469 [==============================] - 2s 2ms/step - loss: 2.3160 - accuracy: 0.1064\n",
      "Epoch 2/5\n",
      "469/469 [==============================] - 1s 2ms/step - loss: 2.2954 - accuracy: 0.1217\n",
      "Epoch 3/5\n",
      "469/469 [==============================] - 1s 2ms/step - loss: 2.2848 - accuracy: 0.1297\n",
      "Epoch 4/5\n",
      "469/469 [==============================] - 1s 2ms/step - loss: 2.2691 - accuracy: 0.1466\n",
      "Epoch 5/5\n",
      "469/469 [==============================] - 1s 2ms/step - loss: 2.2471 - accuracy: 0.1631\n"
     ]
    }
   ],
   "source": [
    "# Create and train client models\n",
    "client1_model = create_client_model()\n",
    "client2_model = create_client_model()\n",
    "client3_model = create_client_model()\n",
    "client4_model = create_client_model()\n",
    "\n",
    "client1_model = train_client_model(client1_model, Client_1[0], Client_1[1])\n",
    "client2_model = train_client_model(client2_model, Client_2[0], Client_1[1])\n",
    "client3_model = train_client_model(client3_model, Client_3[0], Client_1[1])\n",
    "client4_model = train_client_model(client4_model, Client_4[0], Client_1[1])"
   ]
  },
  {
   "cell_type": "code",
   "execution_count": 92,
   "id": "dd9c54b0",
   "metadata": {},
   "outputs": [],
   "source": [
    "# Federated averaging\n",
    "def federated_average_weights(weights1, weights2, weights3, weights4):\n",
    "    new_weights = []\n",
    "    for w1, w2, w3, w4 in zip(weights1, weights2, weights3, weights4):\n",
    "        new_weights.append((w1 + w2 + w3 + w4) / 4)\n",
    "    return new_weights"
   ]
  },
  {
   "cell_type": "code",
   "execution_count": 93,
   "id": "170efae5",
   "metadata": {},
   "outputs": [],
   "source": [
    "# Aggregate models\n",
    "aggregated_weights = federated_average_weights(client1_model.get_weights(), \n",
    "                                               client2_model.get_weights(), \n",
    "                                               client3_model.get_weights(),\n",
    "                                               client4_model.get_weights())\n",
    "\n",
    "# Create global model and set weights\n",
    "global_model = create_client_model()\n",
    "global_model.set_weights(aggregated_weights)"
   ]
  },
  {
   "cell_type": "code",
   "execution_count": 94,
   "id": "17ef4ff0",
   "metadata": {},
   "outputs": [
    {
     "name": "stdout",
     "output_type": "stream",
     "text": [
      "313/313 - 1s - loss: 2.2113 - accuracy: 0.3446 - 684ms/epoch - 2ms/step\n",
      "Test accuracy: 0.34459999203681946\n"
     ]
    }
   ],
   "source": [
    "# Evaluate global model\n",
    "test_loss, test_acc = global_model.evaluate(x_test, y_test, verbose=2)\n",
    "print('Test accuracy:', test_acc)"
   ]
  },
  {
   "cell_type": "code",
   "execution_count": 95,
   "id": "686d2180",
   "metadata": {},
   "outputs": [
    {
     "name": "stdout",
     "output_type": "stream",
     "text": [
      "313/313 [==============================] - 0s 1ms/step\n",
      "(10000, 10)\n"
     ]
    }
   ],
   "source": [
    "predictions = global_model.predict(x_test)\n",
    "print(predictions.shape)\n",
    "\n",
    "predictions = list(predictions.argmax(axis=1))"
   ]
  },
  {
   "cell_type": "code",
   "execution_count": 96,
   "id": "1996cdf1",
   "metadata": {},
   "outputs": [
    {
     "name": "stdout",
     "output_type": "stream",
     "text": [
      "Accuracy test set:  0.3446\n",
      "Precision test set:  0.38951069332193655\n",
      "Recall test set:  0.3446\n",
      "F-score test set:  0.2910442378393783\n",
      "              precision    recall  f1-score   support\n",
      "\n",
      "           0       0.31      0.09      0.14       980\n",
      "           1       0.32      0.95      0.48      1135\n",
      "           2       0.28      0.04      0.07      1032\n",
      "           3       0.30      0.09      0.14      1010\n",
      "           4       0.46      0.25      0.32       982\n",
      "           5       0.53      0.04      0.08       892\n",
      "           6       0.69      0.38      0.49       958\n",
      "           7       0.56      0.65      0.60      1028\n",
      "           8       0.25      0.17      0.20       974\n",
      "           9       0.23      0.66      0.34      1009\n",
      "\n",
      "    accuracy                           0.34     10000\n",
      "   macro avg       0.39      0.33      0.29     10000\n",
      "weighted avg       0.39      0.34      0.29     10000\n",
      "\n"
     ]
    }
   ],
   "source": [
    "print(\"Accuracy test set: \", accuracy_score(y_test, predictions))\n",
    "\n",
    "print(\"Precision test set: \", precision_score(y_test, predictions, average = 'weighted' )) \n",
    "print(\"Recall test set: \", recall_score(y_test, predictions, average = 'weighted' ))\n",
    "print(\"F-score test set: \", f1_score(y_test, predictions, average = 'weighted' ))\n",
    "\n",
    "print(classification_report(y_test, predictions))"
   ]
  },
  {
   "cell_type": "code",
   "execution_count": 97,
   "id": "efdecefb",
   "metadata": {},
   "outputs": [],
   "source": [
    "test_accuracy.append(0.28790000081062317)\n",
    "test_precision.append(0.37310911314701634)\n",
    "test_recall.append(0.2879)\n",
    "test_f1_score.append(0.2500357846568731)"
   ]
  },
  {
   "cell_type": "code",
   "execution_count": 98,
   "id": "3ebe081f",
   "metadata": {},
   "outputs": [
    {
     "name": "stdout",
     "output_type": "stream",
     "text": [
      "[0.8851000070571899, 0.28790000081062317]\n",
      "[0.907323157047967, 0.37310911314701634]\n",
      "[0.8851, 0.2879]\n",
      "[0.8851514824563385, 0.2500357846568731]\n"
     ]
    }
   ],
   "source": [
    "print(test_accuracy)\n",
    "print(test_precision)\n",
    "print(test_recall)\n",
    "print(test_f1_score)"
   ]
  },
  {
   "cell_type": "code",
   "execution_count": 99,
   "id": "7a8eaf15",
   "metadata": {},
   "outputs": [
    {
     "name": "stdout",
     "output_type": "stream",
     "text": [
      "(10000, 28, 28, 1)\n",
      "(10000, 28, 28, 1)\n",
      "(10000, 28, 28, 1)\n",
      "(10000, 28, 28, 1)\n",
      "(10000, 28, 28, 1)\n",
      "(10000, 28, 28, 1)\n",
      "(10000,)\n",
      "(10000,)\n",
      "(10000,)\n",
      "(10000,)\n",
      "(10000,)\n",
      "(10000,)\n"
     ]
    }
   ],
   "source": [
    "Client_1 = (x_train[0:10000], y_train[0:10000])\n",
    "Client_2 = (x_train[10000:20000], y_train[10000:20000])\n",
    "Client_3 = (x_train[20000:30000], y_train[20000:30000])\n",
    "Client_4 = (x_train[30000:40000], y_train[30000:40000])\n",
    "Client_5 = (x_train[40000:50000], y_train[40000:50000])\n",
    "Client_6 = (x_train[50000:], y_train[50000:])\n",
    "\n",
    "print(Client_1[0].shape)\n",
    "print(Client_2[0].shape)\n",
    "print(Client_3[0].shape)\n",
    "print(Client_4[0].shape)\n",
    "print(Client_5[0].shape)\n",
    "print(Client_6[0].shape)\n",
    "\n",
    "print(Client_1[1].shape)\n",
    "print(Client_2[1].shape)\n",
    "print(Client_3[1].shape)\n",
    "print(Client_4[1].shape)\n",
    "print(Client_5[1].shape)\n",
    "print(Client_6[1].shape)"
   ]
  },
  {
   "cell_type": "code",
   "execution_count": 100,
   "id": "7e9a8e3c",
   "metadata": {},
   "outputs": [
    {
     "name": "stdout",
     "output_type": "stream",
     "text": [
      "Epoch 1/5\n",
      "313/313 [==============================] - 1s 2ms/step - loss: 0.5072 - accuracy: 0.8637\n",
      "Epoch 2/5\n",
      "313/313 [==============================] - 1s 2ms/step - loss: 0.2378 - accuracy: 0.9335\n",
      "Epoch 3/5\n",
      "313/313 [==============================] - 1s 2ms/step - loss: 0.1764 - accuracy: 0.9490\n",
      "Epoch 4/5\n",
      "313/313 [==============================] - 1s 2ms/step - loss: 0.1343 - accuracy: 0.9617\n",
      "Epoch 5/5\n",
      "313/313 [==============================] - 1s 2ms/step - loss: 0.1046 - accuracy: 0.9706\n",
      "Epoch 1/5\n",
      "313/313 [==============================] - 1s 2ms/step - loss: 2.3199 - accuracy: 0.1047\n",
      "Epoch 2/5\n",
      "313/313 [==============================] - 1s 2ms/step - loss: 2.2942 - accuracy: 0.1217\n",
      "Epoch 3/5\n",
      "313/313 [==============================] - 1s 2ms/step - loss: 2.2792 - accuracy: 0.1393\n",
      "Epoch 4/5\n",
      "313/313 [==============================] - 1s 2ms/step - loss: 2.2577 - accuracy: 0.1567\n",
      "Epoch 5/5\n",
      "313/313 [==============================] - 1s 2ms/step - loss: 2.2306 - accuracy: 0.1711\n",
      "Epoch 1/5\n",
      "313/313 [==============================] - 1s 2ms/step - loss: 2.3190 - accuracy: 0.1038\n",
      "Epoch 2/5\n",
      "313/313 [==============================] - 1s 2ms/step - loss: 2.2945 - accuracy: 0.1255\n",
      "Epoch 3/5\n",
      "313/313 [==============================] - 1s 2ms/step - loss: 2.2809 - accuracy: 0.1314\n",
      "Epoch 4/5\n",
      "313/313 [==============================] - 1s 2ms/step - loss: 2.2638 - accuracy: 0.1499\n",
      "Epoch 5/5\n",
      "313/313 [==============================] - 1s 2ms/step - loss: 2.2384 - accuracy: 0.1636\n",
      "Epoch 1/5\n",
      "313/313 [==============================] - 1s 2ms/step - loss: 2.3229 - accuracy: 0.1003\n",
      "Epoch 2/5\n",
      "313/313 [==============================] - 1s 2ms/step - loss: 2.2928 - accuracy: 0.1194\n",
      "Epoch 3/5\n",
      "313/313 [==============================] - 1s 2ms/step - loss: 2.2746 - accuracy: 0.1407\n",
      "Epoch 4/5\n",
      "313/313 [==============================] - 1s 2ms/step - loss: 2.2495 - accuracy: 0.1582\n",
      "Epoch 5/5\n",
      "313/313 [==============================] - 1s 2ms/step - loss: 2.2227 - accuracy: 0.1801\n",
      "Epoch 1/5\n",
      "313/313 [==============================] - 1s 2ms/step - loss: 0.5330 - accuracy: 0.8488\n",
      "Epoch 2/5\n",
      "313/313 [==============================] - 1s 2ms/step - loss: 0.2548 - accuracy: 0.9271\n",
      "Epoch 3/5\n",
      "313/313 [==============================] - 1s 2ms/step - loss: 0.1875 - accuracy: 0.9477\n",
      "Epoch 4/5\n",
      "313/313 [==============================] - 1s 2ms/step - loss: 0.1425 - accuracy: 0.9612\n",
      "Epoch 5/5\n",
      "313/313 [==============================] - 1s 2ms/step - loss: 0.1107 - accuracy: 0.9696\n",
      "Epoch 1/5\n",
      "313/313 [==============================] - 1s 2ms/step - loss: 0.4958 - accuracy: 0.8643\n",
      "Epoch 2/5\n",
      "313/313 [==============================] - 1s 2ms/step - loss: 0.2270 - accuracy: 0.9382\n",
      "Epoch 3/5\n",
      "313/313 [==============================] - 1s 2ms/step - loss: 0.1636 - accuracy: 0.9544\n",
      "Epoch 4/5\n",
      "313/313 [==============================] - 1s 2ms/step - loss: 0.1247 - accuracy: 0.9650\n",
      "Epoch 5/5\n",
      "313/313 [==============================] - 1s 2ms/step - loss: 0.0947 - accuracy: 0.9754\n"
     ]
    }
   ],
   "source": [
    "# Create and train client models\n",
    "client1_model = create_client_model()\n",
    "client2_model = create_client_model()\n",
    "client3_model = create_client_model()\n",
    "client4_model = create_client_model()\n",
    "client5_model = create_client_model()\n",
    "client6_model = create_client_model()\n",
    "\n",
    "client1_model = train_client_model(client1_model, Client_1[0], Client_1[1])\n",
    "client2_model = train_client_model(client2_model, Client_2[0], Client_1[1])\n",
    "client3_model = train_client_model(client3_model, Client_3[0], Client_1[1])\n",
    "client4_model = train_client_model(client4_model, Client_4[0], Client_1[1])\n",
    "client5_model = train_client_model(client5_model, Client_5[0], Client_5[1])\n",
    "client6_model = train_client_model(client6_model, Client_6[0], Client_6[1])"
   ]
  },
  {
   "cell_type": "code",
   "execution_count": 101,
   "id": "db15af10",
   "metadata": {},
   "outputs": [],
   "source": [
    "# Federated averaging\n",
    "def federated_average_weights(weights1, weights2, weights3, weights4, weights5, weights6):\n",
    "    new_weights = []\n",
    "    for w1, w2, w3, w4, w5, w6 in zip(weights1, weights2, weights3, weights4, weights5, weights6):\n",
    "        new_weights.append((w1 + w2 + w3 + w4 + w5 + w6) / 6)\n",
    "    return new_weights\n",
    "\n",
    "\n",
    "# Aggregate models\n",
    "aggregated_weights = federated_average_weights(client1_model.get_weights(), \n",
    "                                               client2_model.get_weights(), \n",
    "                                               client3_model.get_weights(),\n",
    "                                               client4_model.get_weights(),\n",
    "                                               client5_model.get_weights(),\n",
    "                                               client6_model.get_weights())\n",
    "\n",
    "# Create global model and set weights\n",
    "global_model = create_client_model()\n",
    "global_model.set_weights(aggregated_weights)"
   ]
  },
  {
   "cell_type": "code",
   "execution_count": 102,
   "id": "ced70e20",
   "metadata": {},
   "outputs": [
    {
     "name": "stdout",
     "output_type": "stream",
     "text": [
      "313/313 - 1s - loss: 1.9551 - accuracy: 0.6399 - 641ms/epoch - 2ms/step\n",
      "Test accuracy: 0.6399000287055969\n",
      "313/313 [==============================] - 0s 1ms/step\n",
      "(10000, 10)\n",
      "Accuracy test set:  0.6399\n",
      "Precision test set:  0.7560905011039863\n",
      "Recall test set:  0.6399\n",
      "F-score test set:  0.6274974004174357\n",
      "              precision    recall  f1-score   support\n",
      "\n",
      "           0       0.98      0.66      0.79       980\n",
      "           1       0.88      0.95      0.92      1135\n",
      "           2       0.96      0.34      0.51      1032\n",
      "           3       0.47      0.66      0.55      1010\n",
      "           4       0.97      0.14      0.25       982\n",
      "           5       0.44      0.95      0.60       892\n",
      "           6       0.85      0.64      0.73       958\n",
      "           7       0.45      0.91      0.60      1028\n",
      "           8       0.88      0.60      0.71       974\n",
      "           9       0.65      0.54      0.59      1009\n",
      "\n",
      "    accuracy                           0.64     10000\n",
      "   macro avg       0.75      0.64      0.62     10000\n",
      "weighted avg       0.76      0.64      0.63     10000\n",
      "\n"
     ]
    }
   ],
   "source": [
    "# Evaluate global model\n",
    "test_loss, test_acc = global_model.evaluate(x_test, y_test, verbose=2)\n",
    "print('Test accuracy:', test_acc)\n",
    "\n",
    "predictions = global_model.predict(x_test)\n",
    "print(predictions.shape)\n",
    "\n",
    "predictions = list(predictions.argmax(axis=1))\n",
    "\n",
    "print(\"Accuracy test set: \", accuracy_score(y_test, predictions))\n",
    "\n",
    "print(\"Precision test set: \", precision_score(y_test, predictions, average = 'weighted' )) \n",
    "print(\"Recall test set: \", recall_score(y_test, predictions, average = 'weighted' ))\n",
    "print(\"F-score test set: \", f1_score(y_test, predictions, average = 'weighted' ))\n",
    "\n",
    "print(classification_report(y_test, predictions))"
   ]
  },
  {
   "cell_type": "code",
   "execution_count": 103,
   "id": "47d05b83",
   "metadata": {},
   "outputs": [
    {
     "name": "stdout",
     "output_type": "stream",
     "text": [
      "[0.8851000070571899, 0.28790000081062317, 0.7271999716758728]\n",
      "[0.907323157047967, 0.37310911314701634, 0.7834205071021751]\n",
      "[0.8851, 0.2879, 0.7272]\n",
      "[0.8851514824563385, 0.2500357846568731, 0.7308748558259915]\n"
     ]
    }
   ],
   "source": [
    "test_accuracy.append(0.7271999716758728)\n",
    "test_precision.append(0.7834205071021751)\n",
    "test_recall.append(0.7272)\n",
    "test_f1_score.append(0.7308748558259915)\n",
    "\n",
    "print(test_accuracy)\n",
    "print(test_precision)\n",
    "print(test_recall)\n",
    "print(test_f1_score)"
   ]
  },
  {
   "cell_type": "code",
   "execution_count": 104,
   "id": "ffeb98f3",
   "metadata": {},
   "outputs": [
    {
     "name": "stdout",
     "output_type": "stream",
     "text": [
      "(7500, 28, 28, 1)\n",
      "(7500, 28, 28, 1)\n",
      "(7500, 28, 28, 1)\n",
      "(7500, 28, 28, 1)\n",
      "(7500, 28, 28, 1)\n",
      "(7500, 28, 28, 1)\n",
      "(7500, 28, 28, 1)\n",
      "(7500, 28, 28, 1)\n",
      "(7500,)\n",
      "(7500,)\n",
      "(7500,)\n",
      "(7500,)\n",
      "(7500,)\n",
      "(7500,)\n",
      "(7500,)\n",
      "(7500,)\n",
      "Epoch 1/5\n",
      "235/235 [==============================] - 1s 2ms/step - loss: 0.5671 - accuracy: 0.8471\n",
      "Epoch 2/5\n",
      "235/235 [==============================] - 0s 2ms/step - loss: 0.2591 - accuracy: 0.9331\n",
      "Epoch 3/5\n",
      "235/235 [==============================] - 0s 2ms/step - loss: 0.1898 - accuracy: 0.9463\n",
      "Epoch 4/5\n",
      "235/235 [==============================] - 0s 2ms/step - loss: 0.1511 - accuracy: 0.9563\n",
      "Epoch 5/5\n",
      "235/235 [==============================] - 0s 2ms/step - loss: 0.1150 - accuracy: 0.9691\n",
      "Epoch 1/5\n",
      "235/235 [==============================] - 1s 2ms/step - loss: 2.3219 - accuracy: 0.0977\n",
      "Epoch 2/5\n",
      "235/235 [==============================] - 0s 2ms/step - loss: 2.2878 - accuracy: 0.1273\n",
      "Epoch 3/5\n",
      "235/235 [==============================] - 0s 2ms/step - loss: 2.2655 - accuracy: 0.1488\n",
      "Epoch 4/5\n",
      "235/235 [==============================] - 0s 2ms/step - loss: 2.2334 - accuracy: 0.1744\n",
      "Epoch 5/5\n",
      "235/235 [==============================] - 0s 2ms/step - loss: 2.1973 - accuracy: 0.1961\n",
      "Epoch 1/5\n",
      "235/235 [==============================] - 1s 2ms/step - loss: 2.3222 - accuracy: 0.1064\n",
      "Epoch 2/5\n",
      "235/235 [==============================] - 0s 2ms/step - loss: 2.2847 - accuracy: 0.1289\n",
      "Epoch 3/5\n",
      "235/235 [==============================] - 0s 2ms/step - loss: 2.2615 - accuracy: 0.1477\n",
      "Epoch 4/5\n",
      "235/235 [==============================] - 0s 2ms/step - loss: 2.2337 - accuracy: 0.1697\n",
      "Epoch 5/5\n",
      "235/235 [==============================] - 0s 2ms/step - loss: 2.1955 - accuracy: 0.1897\n",
      "Epoch 1/5\n",
      "235/235 [==============================] - 1s 2ms/step - loss: 2.3216 - accuracy: 0.1039\n",
      "Epoch 2/5\n",
      "235/235 [==============================] - 0s 2ms/step - loss: 2.2858 - accuracy: 0.1379\n",
      "Epoch 3/5\n",
      "235/235 [==============================] - 0s 2ms/step - loss: 2.2665 - accuracy: 0.1443\n",
      "Epoch 4/5\n",
      "235/235 [==============================] - 0s 2ms/step - loss: 2.2405 - accuracy: 0.1737\n",
      "Epoch 5/5\n",
      "235/235 [==============================] - 0s 2ms/step - loss: 2.2027 - accuracy: 0.1955\n",
      "Epoch 1/5\n",
      "235/235 [==============================] - 1s 1ms/step - loss: 0.6236 - accuracy: 0.8232\n",
      "Epoch 2/5\n",
      "235/235 [==============================] - 0s 1ms/step - loss: 0.2826 - accuracy: 0.9200\n",
      "Epoch 3/5\n",
      "235/235 [==============================] - 0s 2ms/step - loss: 0.2066 - accuracy: 0.9392\n",
      "Epoch 4/5\n",
      "235/235 [==============================] - 0s 2ms/step - loss: 0.1634 - accuracy: 0.9539\n",
      "Epoch 5/5\n",
      "235/235 [==============================] - 0s 2ms/step - loss: 0.1276 - accuracy: 0.9645\n",
      "Epoch 1/5\n",
      "235/235 [==============================] - 1s 2ms/step - loss: 0.5984 - accuracy: 0.8349\n",
      "Epoch 2/5\n",
      "235/235 [==============================] - 0s 2ms/step - loss: 0.2757 - accuracy: 0.9192\n",
      "Epoch 3/5\n",
      "235/235 [==============================] - 0s 2ms/step - loss: 0.2061 - accuracy: 0.9413\n",
      "Epoch 4/5\n",
      "235/235 [==============================] - 0s 2ms/step - loss: 0.1567 - accuracy: 0.9569\n",
      "Epoch 5/5\n",
      "235/235 [==============================] - 0s 2ms/step - loss: 0.1264 - accuracy: 0.9665\n",
      "Epoch 1/5\n",
      "235/235 [==============================] - 1s 2ms/step - loss: 0.6192 - accuracy: 0.8275\n",
      "Epoch 2/5\n",
      "235/235 [==============================] - 0s 2ms/step - loss: 0.2864 - accuracy: 0.9201\n",
      "Epoch 3/5\n",
      "235/235 [==============================] - 0s 2ms/step - loss: 0.2166 - accuracy: 0.9423\n",
      "Epoch 4/5\n",
      "235/235 [==============================] - 0s 2ms/step - loss: 0.1655 - accuracy: 0.9561\n",
      "Epoch 5/5\n",
      "235/235 [==============================] - 0s 2ms/step - loss: 0.1329 - accuracy: 0.9641\n",
      "Epoch 1/5\n",
      "235/235 [==============================] - 1s 2ms/step - loss: 0.5355 - accuracy: 0.8563\n",
      "Epoch 2/5\n",
      "235/235 [==============================] - 0s 2ms/step - loss: 0.2334 - accuracy: 0.9321\n",
      "Epoch 3/5\n",
      "235/235 [==============================] - 0s 2ms/step - loss: 0.1754 - accuracy: 0.9488\n",
      "Epoch 4/5\n",
      "235/235 [==============================] - 0s 2ms/step - loss: 0.1368 - accuracy: 0.9620\n",
      "Epoch 5/5\n",
      "235/235 [==============================] - 0s 2ms/step - loss: 0.1080 - accuracy: 0.9701\n"
     ]
    }
   ],
   "source": [
    "Client_1 = (x_train[0:7500], y_train[0:7500])\n",
    "Client_2 = (x_train[7500:15000], y_train[7500:15000])\n",
    "Client_3 = (x_train[15000:22500], y_train[15000:22500])\n",
    "Client_4 = (x_train[22500:30000], y_train[22500:30000])\n",
    "Client_5 = (x_train[30000:37500], y_train[30000:37500])\n",
    "Client_6 = (x_train[37500:45000], y_train[37500:45000])\n",
    "Client_7 = (x_train[45000:52500], y_train[45000:52500])\n",
    "Client_8 = (x_train[52500:], y_train[52500:])\n",
    "\n",
    "print(Client_1[0].shape)\n",
    "print(Client_2[0].shape)\n",
    "print(Client_3[0].shape)\n",
    "print(Client_4[0].shape)\n",
    "print(Client_5[0].shape)\n",
    "print(Client_6[0].shape)\n",
    "print(Client_7[0].shape)\n",
    "print(Client_8[0].shape)\n",
    "\n",
    "print(Client_1[1].shape)\n",
    "print(Client_2[1].shape)\n",
    "print(Client_3[1].shape)\n",
    "print(Client_4[1].shape)\n",
    "print(Client_5[1].shape)\n",
    "print(Client_6[1].shape)\n",
    "print(Client_7[1].shape)\n",
    "print(Client_8[1].shape)\n",
    "\n",
    "# Create and train client models\n",
    "client1_model = create_client_model()\n",
    "client2_model = create_client_model()\n",
    "client3_model = create_client_model()\n",
    "client4_model = create_client_model()\n",
    "client5_model = create_client_model()\n",
    "client6_model = create_client_model()\n",
    "client7_model = create_client_model()\n",
    "client8_model = create_client_model()\n",
    "\n",
    "client1_model = train_client_model(client1_model, Client_1[0], Client_1[1])\n",
    "client2_model = train_client_model(client2_model, Client_2[0], Client_1[1])\n",
    "client3_model = train_client_model(client3_model, Client_3[0], Client_1[1])\n",
    "client4_model = train_client_model(client4_model, Client_4[0], Client_1[1])\n",
    "client5_model = train_client_model(client5_model, Client_5[0], Client_5[1])\n",
    "client6_model = train_client_model(client6_model, Client_6[0], Client_6[1])\n",
    "client7_model = train_client_model(client7_model, Client_7[0], Client_7[1])\n",
    "client8_model = train_client_model(client8_model, Client_8[0], Client_8[1])"
   ]
  },
  {
   "cell_type": "code",
   "execution_count": 105,
   "id": "63ec6bb5",
   "metadata": {},
   "outputs": [],
   "source": [
    "# Federated averaging\n",
    "def federated_average_weights(weights1, weights2, weights3, weights4, \n",
    "                              weights5, weights6, weights7, weights8):\n",
    "    new_weights = []\n",
    "    for w1, w2, w3, w4, w5, w6, w7, w8 in zip(weights1, weights2, weights3, weights4, \n",
    "                                              weights5, weights6, weights7, weights8):\n",
    "        new_weights.append((w1 + w2 + w3 + w4 + w5 + w6 + w7 +w8) / 8)\n",
    "    return new_weights\n",
    "\n",
    "\n",
    "# Aggregate models\n",
    "aggregated_weights = federated_average_weights(client1_model.get_weights(), \n",
    "                                               client2_model.get_weights(), \n",
    "                                               client3_model.get_weights(),\n",
    "                                               client4_model.get_weights(),\n",
    "                                               client5_model.get_weights(),\n",
    "                                               client6_model.get_weights(),\n",
    "                                               client7_model.get_weights(),\n",
    "                                               client8_model.get_weights())\n",
    "\n",
    "# Create global model and set weights\n",
    "global_model = create_client_model()\n",
    "global_model.set_weights(aggregated_weights)"
   ]
  },
  {
   "cell_type": "code",
   "execution_count": 106,
   "id": "738222b9",
   "metadata": {},
   "outputs": [
    {
     "name": "stdout",
     "output_type": "stream",
     "text": [
      "313/313 - 1s - loss: 1.8334 - accuracy: 0.6902 - 882ms/epoch - 3ms/step\n",
      "Test accuracy: 0.6901999711990356\n",
      "313/313 [==============================] - 1s 2ms/step\n",
      "(10000, 10)\n",
      "Accuracy test set:  0.6902\n",
      "Precision test set:  0.7881956601785\n",
      "Recall test set:  0.6902\n",
      "F-score test set:  0.6691840208001003\n",
      "              precision    recall  f1-score   support\n",
      "\n",
      "           0       0.96      0.16      0.27       980\n",
      "           1       0.96      0.87      0.91      1135\n",
      "           2       0.45      0.93      0.60      1032\n",
      "           3       0.74      0.88      0.81      1010\n",
      "           4       0.97      0.27      0.42       982\n",
      "           5       0.72      0.76      0.74       892\n",
      "           6       0.98      0.59      0.73       958\n",
      "           7       0.79      0.94      0.86      1028\n",
      "           8       0.80      0.57      0.67       974\n",
      "           9       0.50      0.88      0.64      1009\n",
      "\n",
      "    accuracy                           0.69     10000\n",
      "   macro avg       0.79      0.68      0.67     10000\n",
      "weighted avg       0.79      0.69      0.67     10000\n",
      "\n"
     ]
    }
   ],
   "source": [
    "# Evaluate global model\n",
    "test_loss, test_acc = global_model.evaluate(x_test, y_test, verbose=2)\n",
    "print('Test accuracy:', test_acc)\n",
    "\n",
    "predictions = global_model.predict(x_test)\n",
    "print(predictions.shape)\n",
    "\n",
    "predictions = list(predictions.argmax(axis=1))\n",
    "\n",
    "print(\"Accuracy test set: \", accuracy_score(y_test, predictions))\n",
    "\n",
    "print(\"Precision test set: \", precision_score(y_test, predictions, average = 'weighted' )) \n",
    "print(\"Recall test set: \", recall_score(y_test, predictions, average = 'weighted' ))\n",
    "print(\"F-score test set: \", f1_score(y_test, predictions, average = 'weighted' ))\n",
    "\n",
    "print(classification_report(y_test, predictions))"
   ]
  },
  {
   "cell_type": "code",
   "execution_count": 107,
   "id": "027c09e6",
   "metadata": {},
   "outputs": [
    {
     "name": "stdout",
     "output_type": "stream",
     "text": [
      "[0.8851000070571899, 0.28790000081062317, 0.7271999716758728, 0.6028000116348267]\n",
      "[0.907323157047967, 0.37310911314701634, 0.7834205071021751, 0.7986126719530607]\n",
      "[0.8851, 0.2879, 0.7272, 0.6028]\n",
      "[0.8851514824563385, 0.2500357846568731, 0.7308748558259915, 0.5536289939655649]\n"
     ]
    }
   ],
   "source": [
    "test_accuracy.append(0.6028000116348267)\n",
    "test_precision.append(0.7986126719530607)\n",
    "test_recall.append(0.6028)\n",
    "test_f1_score.append(0.5536289939655649)\n",
    "\n",
    "print(test_accuracy)\n",
    "print(test_precision)\n",
    "print(test_recall)\n",
    "print(test_f1_score)"
   ]
  },
  {
   "cell_type": "code",
   "execution_count": 108,
   "id": "31c48a41",
   "metadata": {},
   "outputs": [
    {
     "name": "stdout",
     "output_type": "stream",
     "text": [
      "(6000, 28, 28, 1)\n",
      "(6000, 28, 28, 1)\n",
      "(6000, 28, 28, 1)\n",
      "(6000, 28, 28, 1)\n",
      "(6000, 28, 28, 1)\n",
      "(6000, 28, 28, 1)\n",
      "(6000, 28, 28, 1)\n",
      "(6000, 28, 28, 1)\n",
      "(6000, 28, 28, 1)\n",
      "(6000, 28, 28, 1)\n",
      "(6000,)\n",
      "(6000,)\n",
      "(6000,)\n",
      "(6000,)\n",
      "(6000,)\n",
      "(6000,)\n",
      "(6000,)\n",
      "(6000,)\n",
      "(6000,)\n",
      "(6000,)\n",
      "Epoch 1/5\n",
      "188/188 [==============================] - 1s 2ms/step - loss: 0.6370 - accuracy: 0.8260\n",
      "Epoch 2/5\n",
      "188/188 [==============================] - 0s 2ms/step - loss: 0.2787 - accuracy: 0.9218\n",
      "Epoch 3/5\n",
      "188/188 [==============================] - 0s 2ms/step - loss: 0.2072 - accuracy: 0.9442\n",
      "Epoch 4/5\n",
      "188/188 [==============================] - 0s 2ms/step - loss: 0.1632 - accuracy: 0.9527\n",
      "Epoch 5/5\n",
      "188/188 [==============================] - 0s 2ms/step - loss: 0.1252 - accuracy: 0.9667\n",
      "Epoch 1/5\n",
      "188/188 [==============================] - 1s 2ms/step - loss: 2.3289 - accuracy: 0.1007\n",
      "Epoch 2/5\n",
      "188/188 [==============================] - 0s 2ms/step - loss: 2.2836 - accuracy: 0.1308\n",
      "Epoch 3/5\n",
      "188/188 [==============================] - 0s 2ms/step - loss: 2.2586 - accuracy: 0.1545\n",
      "Epoch 4/5\n",
      "188/188 [==============================] - 0s 2ms/step - loss: 2.2232 - accuracy: 0.1770\n",
      "Epoch 5/5\n",
      "188/188 [==============================] - 0s 2ms/step - loss: 2.1814 - accuracy: 0.2073\n",
      "Epoch 1/5\n",
      "188/188 [==============================] - 1s 2ms/step - loss: 2.3287 - accuracy: 0.1043\n",
      "Epoch 2/5\n",
      "188/188 [==============================] - 0s 2ms/step - loss: 2.2824 - accuracy: 0.1375\n",
      "Epoch 3/5\n",
      "188/188 [==============================] - 0s 2ms/step - loss: 2.2522 - accuracy: 0.1648\n",
      "Epoch 4/5\n",
      "188/188 [==============================] - 0s 2ms/step - loss: 2.2143 - accuracy: 0.1898\n",
      "Epoch 5/5\n",
      "188/188 [==============================] - 0s 2ms/step - loss: 2.1712 - accuracy: 0.2100\n",
      "Epoch 1/5\n",
      "188/188 [==============================] - 1s 1ms/step - loss: 2.3247 - accuracy: 0.1098\n",
      "Epoch 2/5\n",
      "188/188 [==============================] - 0s 2ms/step - loss: 2.2855 - accuracy: 0.1317\n",
      "Epoch 3/5\n",
      "188/188 [==============================] - 0s 2ms/step - loss: 2.2612 - accuracy: 0.1595\n",
      "Epoch 4/5\n",
      "188/188 [==============================] - 0s 2ms/step - loss: 2.2311 - accuracy: 0.1833\n",
      "Epoch 5/5\n",
      "188/188 [==============================] - 0s 2ms/step - loss: 2.1915 - accuracy: 0.2038\n",
      "Epoch 1/5\n",
      "188/188 [==============================] - 1s 2ms/step - loss: 0.6414 - accuracy: 0.8275\n",
      "Epoch 2/5\n",
      "188/188 [==============================] - 0s 2ms/step - loss: 0.2833 - accuracy: 0.9222\n",
      "Epoch 3/5\n",
      "188/188 [==============================] - 0s 2ms/step - loss: 0.2141 - accuracy: 0.9393\n",
      "Epoch 4/5\n",
      "188/188 [==============================] - 0s 2ms/step - loss: 0.1677 - accuracy: 0.9532\n",
      "Epoch 5/5\n",
      "188/188 [==============================] - 0s 2ms/step - loss: 0.1365 - accuracy: 0.9613\n",
      "Epoch 1/5\n",
      "188/188 [==============================] - 1s 2ms/step - loss: 0.6797 - accuracy: 0.8063\n",
      "Epoch 2/5\n",
      "188/188 [==============================] - 0s 2ms/step - loss: 0.2889 - accuracy: 0.9185\n",
      "Epoch 3/5\n",
      "188/188 [==============================] - 0s 2ms/step - loss: 0.2172 - accuracy: 0.9377\n",
      "Epoch 4/5\n",
      "188/188 [==============================] - 0s 2ms/step - loss: 0.1678 - accuracy: 0.9527\n",
      "Epoch 5/5\n",
      "188/188 [==============================] - 0s 2ms/step - loss: 0.1318 - accuracy: 0.9645\n",
      "Epoch 1/5\n",
      "188/188 [==============================] - 1s 2ms/step - loss: 0.6639 - accuracy: 0.8170\n",
      "Epoch 2/5\n",
      "188/188 [==============================] - 0s 2ms/step - loss: 0.2965 - accuracy: 0.9158\n",
      "Epoch 3/5\n",
      "188/188 [==============================] - 0s 2ms/step - loss: 0.2290 - accuracy: 0.9338\n",
      "Epoch 4/5\n",
      "188/188 [==============================] - 0s 2ms/step - loss: 0.1746 - accuracy: 0.9518\n",
      "Epoch 5/5\n",
      "188/188 [==============================] - 0s 2ms/step - loss: 0.1418 - accuracy: 0.9620\n",
      "Epoch 1/5\n",
      "188/188 [==============================] - 1s 2ms/step - loss: 0.6760 - accuracy: 0.8078\n",
      "Epoch 2/5\n",
      "188/188 [==============================] - 0s 2ms/step - loss: 0.3098 - accuracy: 0.9070\n",
      "Epoch 3/5\n",
      "188/188 [==============================] - 0s 2ms/step - loss: 0.2289 - accuracy: 0.9392\n",
      "Epoch 4/5\n",
      "188/188 [==============================] - 0s 2ms/step - loss: 0.1787 - accuracy: 0.9513\n",
      "Epoch 5/5\n",
      "188/188 [==============================] - 0s 2ms/step - loss: 0.1415 - accuracy: 0.9633\n",
      "Epoch 1/5\n",
      "188/188 [==============================] - 1s 2ms/step - loss: 0.6440 - accuracy: 0.8265\n",
      "Epoch 2/5\n",
      "188/188 [==============================] - 0s 2ms/step - loss: 0.2981 - accuracy: 0.9160\n",
      "Epoch 3/5\n",
      "188/188 [==============================] - 0s 2ms/step - loss: 0.2277 - accuracy: 0.9385\n",
      "Epoch 4/5\n",
      "188/188 [==============================] - 0s 2ms/step - loss: 0.1785 - accuracy: 0.9492\n",
      "Epoch 5/5\n",
      "188/188 [==============================] - 0s 2ms/step - loss: 0.1463 - accuracy: 0.9603\n",
      "Epoch 1/5\n",
      "188/188 [==============================] - 1s 2ms/step - loss: 0.5978 - accuracy: 0.8442\n",
      "Epoch 2/5\n",
      "188/188 [==============================] - 0s 2ms/step - loss: 0.2355 - accuracy: 0.9313\n",
      "Epoch 3/5\n",
      "188/188 [==============================] - 0s 2ms/step - loss: 0.1702 - accuracy: 0.9560\n",
      "Epoch 4/5\n",
      "188/188 [==============================] - 0s 2ms/step - loss: 0.1330 - accuracy: 0.9625\n",
      "Epoch 5/5\n",
      "188/188 [==============================] - 0s 2ms/step - loss: 0.1056 - accuracy: 0.9733\n"
     ]
    }
   ],
   "source": [
    "Client_1 = (x_train[0:6000], y_train[0:6000])\n",
    "Client_2 = (x_train[6000:12000], y_train[6000:12000])\n",
    "Client_3 = (x_train[12000:18000], y_train[12000:18000])\n",
    "Client_4 = (x_train[18000:24000], y_train[18000:24000])\n",
    "Client_5 = (x_train[24000:30000], y_train[24000:30000])\n",
    "Client_6 = (x_train[30000:36000], y_train[30000:36000])\n",
    "Client_7 = (x_train[36000:42000], y_train[36000:42000])\n",
    "Client_8 = (x_train[42000:48000], y_train[42000:48000])\n",
    "Client_9 = (x_train[48000:54000], y_train[48000:54000])\n",
    "Client_10 = (x_train[54000:], y_train[54000:])\n",
    "\n",
    "print(Client_1[0].shape)\n",
    "print(Client_2[0].shape)\n",
    "print(Client_3[0].shape)\n",
    "print(Client_4[0].shape)\n",
    "print(Client_5[0].shape)\n",
    "print(Client_6[0].shape)\n",
    "print(Client_7[0].shape)\n",
    "print(Client_8[0].shape)\n",
    "print(Client_9[0].shape)\n",
    "print(Client_10[0].shape)\n",
    "\n",
    "print(Client_1[1].shape)\n",
    "print(Client_2[1].shape)\n",
    "print(Client_3[1].shape)\n",
    "print(Client_4[1].shape)\n",
    "print(Client_5[1].shape)\n",
    "print(Client_6[1].shape)\n",
    "print(Client_7[1].shape)\n",
    "print(Client_8[1].shape)\n",
    "print(Client_9[1].shape)\n",
    "print(Client_10[1].shape)\n",
    "\n",
    "# Create and train client models\n",
    "client1_model = create_client_model()\n",
    "client2_model = create_client_model()\n",
    "client3_model = create_client_model()\n",
    "client4_model = create_client_model()\n",
    "client5_model = create_client_model()\n",
    "client6_model = create_client_model()\n",
    "client7_model = create_client_model()\n",
    "client8_model = create_client_model()\n",
    "client9_model = create_client_model()\n",
    "client10_model = create_client_model()\n",
    "\n",
    "client1_model = train_client_model(client1_model, Client_1[0], Client_1[1])\n",
    "client2_model = train_client_model(client2_model, Client_2[0], Client_1[1])\n",
    "client3_model = train_client_model(client3_model, Client_3[0], Client_1[1])\n",
    "client4_model = train_client_model(client4_model, Client_4[0], Client_1[1])\n",
    "client5_model = train_client_model(client5_model, Client_5[0], Client_5[1])\n",
    "client6_model = train_client_model(client6_model, Client_6[0], Client_6[1])\n",
    "client7_model = train_client_model(client7_model, Client_7[0], Client_7[1])\n",
    "client8_model = train_client_model(client8_model, Client_8[0], Client_8[1])\n",
    "client9_model = train_client_model(client9_model, Client_9[0], Client_9[1])\n",
    "client10_model = train_client_model(client10_model, Client_10[0], Client_10[1])"
   ]
  },
  {
   "cell_type": "code",
   "execution_count": 109,
   "id": "8fbcf878",
   "metadata": {},
   "outputs": [],
   "source": [
    "# Federated averaging\n",
    "def federated_average_weights(weights1, weights2, weights3, weights4, weights5,\n",
    "                              weights6, weights7, weights8, weights9, weights10):\n",
    "    new_weights = []\n",
    "    for w1, w2, w3, w4, w5, w6, w7, w8, w9, w10 in zip(weights1, weights2, weights3, weights4, \n",
    "                                                      weights5, weights6, weights7, weights8, \n",
    "                                                      weights9, weights10):\n",
    "        new_weights.append((w1 + w2 + w3 + w4 + w5 + w6 + w7 + w8 + w9 + w10) / 10)\n",
    "    return new_weights\n",
    "\n",
    "\n",
    "# Aggregate models\n",
    "aggregated_weights = federated_average_weights(client1_model.get_weights(), \n",
    "                                               client2_model.get_weights(), \n",
    "                                               client3_model.get_weights(),\n",
    "                                               client4_model.get_weights(),\n",
    "                                               client5_model.get_weights(),\n",
    "                                               client6_model.get_weights(),\n",
    "                                               client7_model.get_weights(),\n",
    "                                               client8_model.get_weights(),\n",
    "                                               client9_model.get_weights(),\n",
    "                                               client10_model.get_weights())\n",
    "\n",
    "# Create global model and set weights\n",
    "global_model = create_client_model()\n",
    "global_model.set_weights(aggregated_weights)"
   ]
  },
  {
   "cell_type": "code",
   "execution_count": 110,
   "id": "6e2d7e6e",
   "metadata": {},
   "outputs": [
    {
     "name": "stdout",
     "output_type": "stream",
     "text": [
      "313/313 - 1s - loss: 1.8349 - accuracy: 0.4876 - 679ms/epoch - 2ms/step\n",
      "Test accuracy: 0.4875999987125397\n",
      "313/313 [==============================] - 0s 1ms/step\n",
      "(10000, 10)\n",
      "Accuracy test set:  0.4876\n",
      "Precision test set:  0.6744845931958274\n",
      "Recall test set:  0.4876\n",
      "F-score test set:  0.41597453770085574\n",
      "              precision    recall  f1-score   support\n",
      "\n",
      "           0       1.00      0.00      0.01       980\n",
      "           1       0.94      0.94      0.94      1135\n",
      "           2       0.65      0.73      0.69      1032\n",
      "           3       0.71      0.74      0.72      1010\n",
      "           4       0.99      0.30      0.46       982\n",
      "           5       0.24      0.96      0.38       892\n",
      "           6       1.00      0.11      0.20       958\n",
      "           7       0.39      0.97      0.56      1028\n",
      "           8       0.00      0.00      0.00       974\n",
      "           9       0.75      0.04      0.08      1009\n",
      "\n",
      "    accuracy                           0.49     10000\n",
      "   macro avg       0.67      0.48      0.40     10000\n",
      "weighted avg       0.67      0.49      0.42     10000\n",
      "\n"
     ]
    },
    {
     "name": "stderr",
     "output_type": "stream",
     "text": [
      "C:\\Users\\mandh\\AppData\\Local\\anaconda3\\Lib\\site-packages\\sklearn\\metrics\\_classification.py:1469: UndefinedMetricWarning: Precision is ill-defined and being set to 0.0 in labels with no predicted samples. Use `zero_division` parameter to control this behavior.\n",
      "  _warn_prf(average, modifier, msg_start, len(result))\n",
      "C:\\Users\\mandh\\AppData\\Local\\anaconda3\\Lib\\site-packages\\sklearn\\metrics\\_classification.py:1469: UndefinedMetricWarning: Precision and F-score are ill-defined and being set to 0.0 in labels with no predicted samples. Use `zero_division` parameter to control this behavior.\n",
      "  _warn_prf(average, modifier, msg_start, len(result))\n",
      "C:\\Users\\mandh\\AppData\\Local\\anaconda3\\Lib\\site-packages\\sklearn\\metrics\\_classification.py:1469: UndefinedMetricWarning: Precision and F-score are ill-defined and being set to 0.0 in labels with no predicted samples. Use `zero_division` parameter to control this behavior.\n",
      "  _warn_prf(average, modifier, msg_start, len(result))\n",
      "C:\\Users\\mandh\\AppData\\Local\\anaconda3\\Lib\\site-packages\\sklearn\\metrics\\_classification.py:1469: UndefinedMetricWarning: Precision and F-score are ill-defined and being set to 0.0 in labels with no predicted samples. Use `zero_division` parameter to control this behavior.\n",
      "  _warn_prf(average, modifier, msg_start, len(result))\n"
     ]
    }
   ],
   "source": [
    "# Evaluate global model\n",
    "test_loss, test_acc = global_model.evaluate(x_test, y_test, verbose=2)\n",
    "print('Test accuracy:', test_acc)\n",
    "\n",
    "predictions = global_model.predict(x_test)\n",
    "print(predictions.shape)\n",
    "\n",
    "predictions = list(predictions.argmax(axis=1))\n",
    "\n",
    "print(\"Accuracy test set: \", accuracy_score(y_test, predictions))\n",
    "\n",
    "print(\"Precision test set: \", precision_score(y_test, predictions, average = 'weighted' )) \n",
    "print(\"Recall test set: \", recall_score(y_test, predictions, average = 'weighted' ))\n",
    "print(\"F-score test set: \", f1_score(y_test, predictions, average = 'weighted' ))\n",
    "\n",
    "print(classification_report(y_test, predictions))"
   ]
  },
  {
   "cell_type": "code",
   "execution_count": 111,
   "id": "6fdc3bdc",
   "metadata": {},
   "outputs": [
    {
     "name": "stdout",
     "output_type": "stream",
     "text": [
      "[0.8851000070571899, 0.28790000081062317, 0.7271999716758728, 0.6028000116348267, 0.6428999900817871]\n",
      "[0.907323157047967, 0.37310911314701634, 0.7834205071021751, 0.7986126719530607, 0.8044962589008876]\n",
      "[0.8851, 0.2879, 0.7272, 0.6028, 0.6429]\n",
      "[0.8851514824563385, 0.2500357846568731, 0.7308748558259915, 0.5536289939655649, 0.6203729491096158]\n"
     ]
    }
   ],
   "source": [
    "test_accuracy.append(0.6428999900817871)\n",
    "test_precision.append(0.8044962589008876)\n",
    "test_recall.append(0.6429)\n",
    "test_f1_score.append(0.6203729491096158)\n",
    "\n",
    "print(test_accuracy)\n",
    "print(test_precision)\n",
    "print(test_recall)\n",
    "print(test_f1_score)"
   ]
  },
  {
   "cell_type": "code",
   "execution_count": 112,
   "id": "e012f01e",
   "metadata": {},
   "outputs": [],
   "source": [
    "import pandas as pd"
   ]
  },
  {
   "cell_type": "code",
   "execution_count": 113,
   "id": "588256ae",
   "metadata": {},
   "outputs": [
    {
     "name": "stdout",
     "output_type": "stream",
     "text": [
      "[[0.8851000070571899, 0.28790000081062317, 0.7271999716758728, 0.6028000116348267, 0.6428999900817871], [0.907323157047967, 0.37310911314701634, 0.7834205071021751, 0.7986126719530607, 0.8044962589008876], [0.8851, 0.2879, 0.7272, 0.6028, 0.6429], [0.8851514824563385, 0.2500357846568731, 0.7308748558259915, 0.5536289939655649, 0.6203729491096158]]\n"
     ]
    },
    {
     "data": {
      "text/html": [
       "<div>\n",
       "<style scoped>\n",
       "    .dataframe tbody tr th:only-of-type {\n",
       "        vertical-align: middle;\n",
       "    }\n",
       "\n",
       "    .dataframe tbody tr th {\n",
       "        vertical-align: top;\n",
       "    }\n",
       "\n",
       "    .dataframe thead th {\n",
       "        text-align: right;\n",
       "    }\n",
       "</style>\n",
       "<table border=\"1\" class=\"dataframe\">\n",
       "  <thead>\n",
       "    <tr style=\"text-align: right;\">\n",
       "      <th></th>\n",
       "      <th>Accuracy</th>\n",
       "      <th>Precision</th>\n",
       "      <th>Recall</th>\n",
       "      <th>F1_Score</th>\n",
       "    </tr>\n",
       "  </thead>\n",
       "  <tbody>\n",
       "    <tr>\n",
       "      <th>2</th>\n",
       "      <td>0.8851</td>\n",
       "      <td>0.907323</td>\n",
       "      <td>0.8851</td>\n",
       "      <td>0.885151</td>\n",
       "    </tr>\n",
       "    <tr>\n",
       "      <th>4</th>\n",
       "      <td>0.2879</td>\n",
       "      <td>0.373109</td>\n",
       "      <td>0.2879</td>\n",
       "      <td>0.250036</td>\n",
       "    </tr>\n",
       "    <tr>\n",
       "      <th>6</th>\n",
       "      <td>0.7272</td>\n",
       "      <td>0.783421</td>\n",
       "      <td>0.7272</td>\n",
       "      <td>0.730875</td>\n",
       "    </tr>\n",
       "    <tr>\n",
       "      <th>8</th>\n",
       "      <td>0.6028</td>\n",
       "      <td>0.798613</td>\n",
       "      <td>0.6028</td>\n",
       "      <td>0.553629</td>\n",
       "    </tr>\n",
       "    <tr>\n",
       "      <th>10</th>\n",
       "      <td>0.6429</td>\n",
       "      <td>0.804496</td>\n",
       "      <td>0.6429</td>\n",
       "      <td>0.620373</td>\n",
       "    </tr>\n",
       "  </tbody>\n",
       "</table>\n",
       "</div>"
      ],
      "text/plain": [
       "    Accuracy  Precision  Recall  F1_Score\n",
       "2     0.8851   0.907323  0.8851  0.885151\n",
       "4     0.2879   0.373109  0.2879  0.250036\n",
       "6     0.7272   0.783421  0.7272  0.730875\n",
       "8     0.6028   0.798613  0.6028  0.553629\n",
       "10    0.6429   0.804496  0.6429  0.620373"
      ]
     },
     "execution_count": 113,
     "metadata": {},
     "output_type": "execute_result"
    }
   ],
   "source": [
    "ErrorMetrics = []\n",
    "ErrorMetrics.append(test_accuracy)\n",
    "ErrorMetrics.append(test_precision)\n",
    "ErrorMetrics.append(test_recall)\n",
    "ErrorMetrics.append(test_f1_score)\n",
    "\n",
    "print(ErrorMetrics)\n",
    "\n",
    "ErrorMetrics_pd = pd.DataFrame(ErrorMetrics)\n",
    "ErrorMetrics_pd.columns = [2,4,6,8,10]\n",
    "ErrorMetrics_pd = ErrorMetrics_pd.T\n",
    "ErrorMetrics_pd.columns = ['Accuracy','Precision','Recall','F1_Score']\n",
    "ErrorMetrics_pd"
   ]
  },
  {
   "cell_type": "code",
   "execution_count": 114,
   "id": "35cdf386",
   "metadata": {},
   "outputs": [
    {
     "data": {
      "text/plain": [
       "<Axes: >"
      ]
     },
     "execution_count": 114,
     "metadata": {},
     "output_type": "execute_result"
    },
    {
     "data": {
      "image/png": "[encoded data removed]",
      "text/plain": [
       "<Figure size 640x480 with 1 Axes>"
      ]
     },
     "metadata": {},
     "output_type": "display_data"
    }
   ],
   "source": [
    "ErrorMetrics_pd.plot.bar(width=0.7, alpha=0.7)"
   ]
  },
  {
   "cell_type": "code",
   "execution_count": 115,
   "id": "cab9d1ab",
   "metadata": {},
   "outputs": [],
   "source": [
    "Client_1 = (x_train[0:10000], y_train[0:10000])\n",
    "Client_2 = (x_train[10000:20000], y_train[10000:20000])\n",
    "Client_3 = (x_train[20000:30000], y_train[20000:30000])\n",
    "Client_4 = (x_train[30000:40000], y_train[30000:40000])\n",
    "Client_5 = (x_train[40000:50000], y_train[40000:50000])\n",
    "Client_6 = (x_train[50000:], y_train[50000:])"
   ]
  },
  {
   "cell_type": "code",
   "execution_count": 116,
   "id": "ce256a6e",
   "metadata": {},
   "outputs": [
    {
     "data": {
      "text/plain": [
       "10000"
      ]
     },
     "execution_count": 116,
     "metadata": {},
     "output_type": "execute_result"
    }
   ],
   "source": [
    "Client_2[1].size"
   ]
  },
  {
   "cell_type": "code",
   "execution_count": 117,
   "id": "8259ce67",
   "metadata": {},
   "outputs": [
    {
     "data": {
      "text/plain": [
       "array([3, 8, 7, ..., 1, 4, 2], dtype=uint8)"
      ]
     },
     "execution_count": 117,
     "metadata": {},
     "output_type": "execute_result"
    }
   ],
   "source": [
    "Client_2[1]"
   ]
  },
  {
   "cell_type": "code",
   "execution_count": 118,
   "id": "aad6dd72",
   "metadata": {},
   "outputs": [],
   "source": [
    "Client_2[1][:2000] = 4"
   ]
  },
  {
   "cell_type": "code",
   "execution_count": 119,
   "id": "087d7848",
   "metadata": {},
   "outputs": [
    {
     "data": {
      "text/plain": [
       "array([4, 4, 4, ..., 1, 4, 2], dtype=uint8)"
      ]
     },
     "execution_count": 119,
     "metadata": {},
     "output_type": "execute_result"
    }
   ],
   "source": [
    "Client_2[1]"
   ]
  },
  {
   "cell_type": "code",
   "execution_count": 120,
   "id": "1f709d75",
   "metadata": {},
   "outputs": [
    {
     "name": "stdout",
     "output_type": "stream",
     "text": [
      "(10000, 28, 28, 1)\n",
      "(10000, 28, 28, 1)\n",
      "(10000, 28, 28, 1)\n",
      "(10000, 28, 28, 1)\n",
      "(10000, 28, 28, 1)\n",
      "(10000, 28, 28, 1)\n",
      "(10000,)\n",
      "(10000,)\n",
      "(10000,)\n",
      "(10000,)\n",
      "(10000,)\n",
      "(10000,)\n"
     ]
    }
   ],
   "source": [
    "print(Client_1[0].shape)\n",
    "print(Client_2[0].shape)\n",
    "print(Client_3[0].shape)\n",
    "print(Client_4[0].shape)\n",
    "print(Client_5[0].shape)\n",
    "print(Client_6[0].shape)\n",
    "\n",
    "print(Client_1[1].shape)\n",
    "print(Client_2[1].shape)\n",
    "print(Client_3[1].shape)\n",
    "print(Client_4[1].shape)\n",
    "print(Client_5[1].shape)\n",
    "print(Client_6[1].shape)"
   ]
  },
  {
   "cell_type": "code",
   "execution_count": 121,
   "id": "690c6a03",
   "metadata": {},
   "outputs": [
    {
     "name": "stdout",
     "output_type": "stream",
     "text": [
      "Epoch 1/5\n",
      "313/313 [==============================] - 1s 2ms/step - loss: 0.5200 - accuracy: 0.8560\n",
      "Epoch 2/5\n",
      "313/313 [==============================] - 1s 2ms/step - loss: 0.2422 - accuracy: 0.9304\n",
      "Epoch 3/5\n",
      "313/313 [==============================] - 1s 2ms/step - loss: 0.1777 - accuracy: 0.9501\n",
      "Epoch 4/5\n",
      "313/313 [==============================] - 1s 2ms/step - loss: 0.1340 - accuracy: 0.9606\n",
      "Epoch 5/5\n",
      "313/313 [==============================] - 1s 2ms/step - loss: 0.1047 - accuracy: 0.9714\n",
      "Epoch 1/5\n",
      "313/313 [==============================] - 1s 2ms/step - loss: 2.3213 - accuracy: 0.1038\n",
      "Epoch 2/5\n",
      "313/313 [==============================] - 1s 2ms/step - loss: 2.2914 - accuracy: 0.1289\n",
      "Epoch 3/5\n",
      "313/313 [==============================] - 1s 2ms/step - loss: 2.2736 - accuracy: 0.1450\n",
      "Epoch 4/5\n",
      "313/313 [==============================] - 1s 2ms/step - loss: 2.2538 - accuracy: 0.1582\n",
      "Epoch 5/5\n",
      "313/313 [==============================] - 1s 2ms/step - loss: 2.2260 - accuracy: 0.1753\n",
      "Epoch 1/5\n",
      "313/313 [==============================] - 1s 2ms/step - loss: 2.3174 - accuracy: 0.1020\n",
      "Epoch 2/5\n",
      "313/313 [==============================] - 1s 2ms/step - loss: 2.2944 - accuracy: 0.1211\n",
      "Epoch 3/5\n",
      "313/313 [==============================] - 1s 2ms/step - loss: 2.2795 - accuracy: 0.1353\n",
      "Epoch 4/5\n",
      "313/313 [==============================] - 1s 2ms/step - loss: 2.2616 - accuracy: 0.1511\n",
      "Epoch 5/5\n",
      "313/313 [==============================] - 1s 2ms/step - loss: 2.2351 - accuracy: 0.1716\n",
      "Epoch 1/5\n",
      "313/313 [==============================] - 1s 2ms/step - loss: 2.3196 - accuracy: 0.1071\n",
      "Epoch 2/5\n",
      "313/313 [==============================] - 1s 2ms/step - loss: 2.2932 - accuracy: 0.1299\n",
      "Epoch 3/5\n",
      "313/313 [==============================] - 1s 2ms/step - loss: 2.2762 - accuracy: 0.1448\n",
      "Epoch 4/5\n",
      "313/313 [==============================] - 1s 2ms/step - loss: 2.2544 - accuracy: 0.1584\n",
      "Epoch 5/5\n",
      "313/313 [==============================] - 1s 2ms/step - loss: 2.2245 - accuracy: 0.1791\n",
      "Epoch 1/5\n",
      "313/313 [==============================] - 1s 2ms/step - loss: 0.5383 - accuracy: 0.8475\n",
      "Epoch 2/5\n",
      "313/313 [==============================] - 1s 2ms/step - loss: 0.2493 - accuracy: 0.9281\n",
      "Epoch 3/5\n",
      "313/313 [==============================] - 1s 2ms/step - loss: 0.1828 - accuracy: 0.9494\n",
      "Epoch 4/5\n",
      "313/313 [==============================] - 1s 2ms/step - loss: 0.1374 - accuracy: 0.9632\n",
      "Epoch 5/5\n",
      "313/313 [==============================] - 1s 2ms/step - loss: 0.1073 - accuracy: 0.9704\n",
      "Epoch 1/5\n",
      "313/313 [==============================] - 1s 2ms/step - loss: 0.4903 - accuracy: 0.8675\n",
      "Epoch 2/5\n",
      "313/313 [==============================] - 1s 2ms/step - loss: 0.2217 - accuracy: 0.9391\n",
      "Epoch 3/5\n",
      "313/313 [==============================] - 1s 2ms/step - loss: 0.1597 - accuracy: 0.9556\n",
      "Epoch 4/5\n",
      "313/313 [==============================] - 1s 2ms/step - loss: 0.1206 - accuracy: 0.9656\n",
      "Epoch 5/5\n",
      "313/313 [==============================] - 1s 2ms/step - loss: 0.0917 - accuracy: 0.9759\n"
     ]
    }
   ],
   "source": [
    "# Create and train client models\n",
    "client1_model = create_client_model()\n",
    "client2_model = create_client_model()\n",
    "client3_model = create_client_model()\n",
    "client4_model = create_client_model()\n",
    "client5_model = create_client_model()\n",
    "client6_model = create_client_model()\n",
    "\n",
    "client1_model = train_client_model(client1_model, Client_1[0], Client_1[1])\n",
    "client2_model = train_client_model(client2_model, Client_2[0], Client_1[1])\n",
    "client3_model = train_client_model(client3_model, Client_3[0], Client_1[1])\n",
    "client4_model = train_client_model(client4_model, Client_4[0], Client_1[1])\n",
    "client5_model = train_client_model(client5_model, Client_5[0], Client_5[1])\n",
    "client6_model = train_client_model(client6_model, Client_6[0], Client_6[1])"
   ]
  },
  {
   "cell_type": "code",
   "execution_count": 122,
   "id": "a6d76569",
   "metadata": {},
   "outputs": [],
   "source": [
    "# Federated averaging\n",
    "def federated_average_weights(weights1, weights2, weights3, weights4, weights5, weights6):\n",
    "    new_weights = []\n",
    "    for w1, w2, w3, w4, w5, w6 in zip(weights1, weights2, weights3, weights4, weights5, weights6):\n",
    "        new_weights.append((w1 + w2 + w3 + w4 + w5 + w6) / 6)\n",
    "    return new_weights\n",
    "\n",
    "\n",
    "# Aggregate models\n",
    "aggregated_weights = federated_average_weights(client1_model.get_weights(), \n",
    "                                               client2_model.get_weights(), \n",
    "                                               client3_model.get_weights(),\n",
    "                                               client4_model.get_weights(),\n",
    "                                               client5_model.get_weights(),\n",
    "                                               client6_model.get_weights())\n",
    "\n",
    "# Create global model and set weights\n",
    "global_model = create_client_model()\n",
    "global_model.set_weights(aggregated_weights)"
   ]
  },
  {
   "cell_type": "code",
   "execution_count": 123,
   "id": "ea735c36",
   "metadata": {},
   "outputs": [
    {
     "name": "stdout",
     "output_type": "stream",
     "text": [
      "313/313 - 1s - loss: 1.9614 - accuracy: 0.7748 - 653ms/epoch - 2ms/step\n",
      "Test accuracy: 0.7748000025749207\n",
      "313/313 [==============================] - 0s 1ms/step\n",
      "(10000, 10)\n",
      "Accuracy test set:  0.7748\n",
      "Precision test set:  0.8215987617118128\n",
      "Recall test set:  0.7748\n",
      "F-score test set:  0.7674942733055875\n",
      "              precision    recall  f1-score   support\n",
      "\n",
      "           0       0.95      0.90      0.92       980\n",
      "           1       0.89      0.98      0.93      1135\n",
      "           2       0.80      0.72      0.76      1032\n",
      "           3       0.86      0.75      0.80      1010\n",
      "           4       0.92      0.62      0.74       982\n",
      "           5       0.48      0.87      0.62       892\n",
      "           6       0.94      0.80      0.86       958\n",
      "           7       0.78      0.91      0.84      1028\n",
      "           8       0.93      0.26      0.41       974\n",
      "           9       0.62      0.90      0.74      1009\n",
      "\n",
      "    accuracy                           0.77     10000\n",
      "   macro avg       0.82      0.77      0.76     10000\n",
      "weighted avg       0.82      0.77      0.77     10000\n",
      "\n"
     ]
    }
   ],
   "source": [
    "# Evaluate global model\n",
    "test_loss, test_acc = global_model.evaluate(x_test, y_test, verbose=2)\n",
    "print('Test accuracy:', test_acc)\n",
    "\n",
    "predictions = global_model.predict(x_test)\n",
    "print(predictions.shape)\n",
    "\n",
    "predictions = list(predictions.argmax(axis=1))\n",
    "\n",
    "print(\"Accuracy test set: \", accuracy_score(y_test, predictions))\n",
    "\n",
    "print(\"Precision test set: \", precision_score(y_test, predictions, average = 'weighted' )) \n",
    "print(\"Recall test set: \", recall_score(y_test, predictions, average = 'weighted' ))\n",
    "print(\"F-score test set: \", f1_score(y_test, predictions, average = 'weighted' ))\n",
    "\n",
    "print(classification_report(y_test, predictions))"
   ]
  },
  {
   "cell_type": "code",
   "execution_count": 124,
   "id": "653fe882",
   "metadata": {},
   "outputs": [],
   "source": [
    "test_accuracy_dishonest  = []\n",
    "test_precision_dishonest = []\n",
    "test_recall_dishonest    = []\n",
    "test_f1_score_dishonest  = []"
   ]
  },
  {
   "cell_type": "code",
   "execution_count": 125,
   "id": "da2497a9",
   "metadata": {},
   "outputs": [
    {
     "name": "stdout",
     "output_type": "stream",
     "text": [
      "[0.7271999716758728, 0.7197999954223633]\n",
      "[0.7834205071021751, 0.7649681801937827]\n",
      "[0.7272, 0.7198]\n",
      "[0.7308748558259915, 0.7079021148713025]\n"
     ]
    }
   ],
   "source": [
    "test_accuracy_dishonest.append(test_accuracy[2])\n",
    "test_precision_dishonest.append(test_precision[2])\n",
    "test_recall_dishonest.append(test_recall[2])\n",
    "test_f1_score_dishonest.append(test_f1_score[2])\n",
    "\n",
    "test_accuracy_dishonest.append(0.7197999954223633)\n",
    "test_precision_dishonest.append(0.7649681801937827)\n",
    "test_recall_dishonest.append(0.7198)\n",
    "test_f1_score_dishonest.append(0.7079021148713025)\n",
    "\n",
    "print(test_accuracy_dishonest)\n",
    "print(test_precision_dishonest)\n",
    "print(test_recall_dishonest)\n",
    "print(test_f1_score_dishonest)"
   ]
  },
  {
   "cell_type": "code",
   "execution_count": 126,
   "id": "b5b13b6a",
   "metadata": {},
   "outputs": [
    {
     "name": "stdout",
     "output_type": "stream",
     "text": [
      "[[0.7271999716758728, 0.7197999954223633], [0.7834205071021751, 0.7649681801937827], [0.7272, 0.7198], [0.7308748558259915, 0.7079021148713025]]\n"
     ]
    },
    {
     "data": {
      "text/html": [
       "<div>\n",
       "<style scoped>\n",
       "    .dataframe tbody tr th:only-of-type {\n",
       "        vertical-align: middle;\n",
       "    }\n",
       "\n",
       "    .dataframe tbody tr th {\n",
       "        vertical-align: top;\n",
       "    }\n",
       "\n",
       "    .dataframe thead th {\n",
       "        text-align: right;\n",
       "    }\n",
       "</style>\n",
       "<table border=\"1\" class=\"dataframe\">\n",
       "  <thead>\n",
       "    <tr style=\"text-align: right;\">\n",
       "      <th></th>\n",
       "      <th>Accuracy</th>\n",
       "      <th>Precision</th>\n",
       "      <th>Recall</th>\n",
       "      <th>F1_Score</th>\n",
       "    </tr>\n",
       "  </thead>\n",
       "  <tbody>\n",
       "    <tr>\n",
       "      <th>All are honest</th>\n",
       "      <td>0.7272</td>\n",
       "      <td>0.783421</td>\n",
       "      <td>0.7272</td>\n",
       "      <td>0.730875</td>\n",
       "    </tr>\n",
       "    <tr>\n",
       "      <th>#2 is dishonest</th>\n",
       "      <td>0.7198</td>\n",
       "      <td>0.764968</td>\n",
       "      <td>0.7198</td>\n",
       "      <td>0.707902</td>\n",
       "    </tr>\n",
       "  </tbody>\n",
       "</table>\n",
       "</div>"
      ],
      "text/plain": [
       "                 Accuracy  Precision  Recall  F1_Score\n",
       "All are honest     0.7272   0.783421  0.7272  0.730875\n",
       "#2 is dishonest    0.7198   0.764968  0.7198  0.707902"
      ]
     },
     "execution_count": 126,
     "metadata": {},
     "output_type": "execute_result"
    }
   ],
   "source": [
    "### Plot the model's performance for the 6 clients, one of them (number=2) is dishonest\n",
    "\n",
    "ErrorMetrics = []\n",
    "ErrorMetrics.append(test_accuracy_dishonest)\n",
    "ErrorMetrics.append(test_precision_dishonest)\n",
    "ErrorMetrics.append(test_recall_dishonest)\n",
    "ErrorMetrics.append(test_f1_score_dishonest)\n",
    "\n",
    "print(ErrorMetrics)\n",
    "\n",
    "ErrorMetrics_pd = pd.DataFrame(ErrorMetrics)\n",
    "ErrorMetrics_pd.columns = ['All are honest', '#2 is dishonest']\n",
    "ErrorMetrics_pd = ErrorMetrics_pd.T\n",
    "ErrorMetrics_pd.columns = ['Accuracy','Precision','Recall','F1_Score']\n",
    "ErrorMetrics_pd"
   ]
  },
  {
   "cell_type": "code",
   "execution_count": 127,
   "id": "18873c74",
   "metadata": {},
   "outputs": [
    {
     "data": {
      "text/plain": [
       "<Axes: >"
      ]
     },
     "execution_count": 127,
     "metadata": {},
     "output_type": "execute_result"
    },
    {
     "data": {
      "image/png": "[encoded data removed]",
      "text/plain": [
       "<Figure size 640x480 with 1 Axes>"
      ]
     },
     "metadata": {},
     "output_type": "display_data"
    }
   ],
   "source": [
    "ErrorMetrics_pd.plot.bar(width=0.7, alpha=0.7)"
   ]
  },
  {
   "cell_type": "code",
   "execution_count": null,
   "id": "5f6c9762",
   "metadata": {},
   "outputs": [],
   "source": []
  },
  {
   "cell_type": "code",
   "execution_count": null,
   "id": "6fde6ac6",
   "metadata": {},
   "outputs": [],
   "source": []
  },
  {
   "cell_type": "code",
   "execution_count": null,
   "id": "c0a516d8",
   "metadata": {},
   "outputs": [],
   "source": []
  },
  {
   "cell_type": "code",
   "execution_count": null,
   "id": "c5d780e1",
   "metadata": {},
   "outputs": [],
   "source": []
  }
 ],
 "metadata": {
  "kernelspec": {
   "display_name": "Python 3 (ipykernel)",
   "language": "python",
   "name": "python3"
  },
  "language_info": {
   "codemirror_mode": {
    "name": "ipython",
    "version": 3
   },
   "file_extension": ".py",
   "mimetype": "text/x-python",
   "name": "python",
   "nbconvert_exporter": "python",
   "pygments_lexer": "ipython3",
   "version": "3.11.5"
  }
 },
 "nbformat": 4,
 "nbformat_minor": 5
}
